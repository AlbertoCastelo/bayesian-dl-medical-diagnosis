{
 "cells": [
  {
   "cell_type": "markdown",
   "metadata": {
    "pycharm": {}
   },
   "source": [
    "# Result Validation"
   ]
  },
  {
   "cell_type": "code",
   "execution_count": 6,
   "metadata": {
    "pycharm": {
     "is_executing": false
    }
   },
   "outputs": [],
   "source": [
    "import numpy as np\n",
    "import pandas as pd\n",
    "import os\n",
    "import cv2\n",
    "import matplotlib.pyplot as plt\n",
    "%matplotlib inline"
   ]
  },
  {
   "cell_type": "code",
   "execution_count": 7,
   "metadata": {},
   "outputs": [],
   "source": [
    "import torch\n",
    "import torchvision.transforms as transforms\n",
    "import pandas as pd"
   ]
  },
  {
   "cell_type": "code",
   "execution_count": 8,
   "metadata": {
    "pycharm": {}
   },
   "outputs": [],
   "source": [
    "DATASET_PATH = '/data/histopathologic-cancer-detection/'"
   ]
  },
  {
   "cell_type": "code",
   "execution_count": 9,
   "metadata": {},
   "outputs": [],
   "source": [
    "model_type = '3conv3fc'\n",
    "\n",
    "dataset = 'cancer'"
   ]
  },
  {
   "cell_type": "code",
   "execution_count": 10,
   "metadata": {},
   "outputs": [],
   "source": [
    "import json\n",
    "def load_configuration(filename, path='./configuration'):\n",
    "    with open(f'{path}/{filename}') as f:\n",
    "        configuration = json.load(f)\n",
    "    return configuration"
   ]
  },
  {
   "cell_type": "code",
   "execution_count": 12,
   "metadata": {},
   "outputs": [],
   "source": [
    "config = load_configuration(filename=f'frequentist-{model_type}-{dataset}.json', path='./../bayes_by_backprop/configuration')\n",
    "batch_size = 60\n",
    "img_size = config['img_size']\n",
    "n_channels = config['n_channels']\n",
    "weight_decay = config['weight_decay']"
   ]
  },
  {
   "cell_type": "code",
   "execution_count": 13,
   "metadata": {},
   "outputs": [],
   "source": [
    "# define data transformations\n",
    "common_trans = [\n",
    "    transforms.CenterCrop((img_size, img_size)),\n",
    "    transforms.ToTensor(),\n",
    "    transforms.Normalize(mean=[0.6976, 0.5404, 0.6897],\n",
    "                         std=[0.2433, 0.2839, 0.2199])\n",
    "]\n",
    "\n",
    "transform_test = transforms.Compose(common_trans)\n",
    "\n",
    "use_cuda = torch.cuda.is_available()\n",
    "torch.cuda.set_device(0)"
   ]
  },
  {
   "cell_type": "markdown",
   "metadata": {},
   "source": [
    "## Functions to run Testing"
   ]
  },
  {
   "cell_type": "code",
   "execution_count": 14,
   "metadata": {},
   "outputs": [],
   "source": [
    "from torchvision.models import ResNet\n",
    "from torchvision.models.resnet import BasicBlock\n",
    "import torch.utils.model_zoo as model_zoo\n",
    "import math\n",
    "import torch\n",
    "from torch.distributions import Categorical"
   ]
  },
  {
   "cell_type": "code",
   "execution_count": 15,
   "metadata": {},
   "outputs": [],
   "source": [
    "import os\n",
    "from glob import glob\n",
    "from sklearn.model_selection import train_test_split\n",
    "import torch\n",
    "from torch.utils.data import Dataset\n",
    "import pandas as pd\n",
    "import numpy as np\n",
    "from torchvision.transforms import transforms\n",
    "from PIL import Image\n",
    "\n",
    "\n",
    "class HistoPathologicCancer(Dataset):\n",
    "    \"\"\"Histo-Pathologic Cancer Dataset with binary labeling: Finding/No-Finding\"\"\"\n",
    "\n",
    "    def __init__(self, path=None, img_size=64, dataset_type='train', transform=None, n_channels=3, is_debug=False):\n",
    "        self.path = path if path is not None \\\n",
    "            else '/home/alberto/Desktop/datasets/histopathologic-cancer-detection/'\n",
    "        self.img_size = img_size\n",
    "        self.dataset_type = dataset_type\n",
    "        if self.dataset_type not in ['train', 'validation', 'test']:\n",
    "            raise RuntimeError\n",
    "\n",
    "\n",
    "\n",
    "        self.n_channels = n_channels\n",
    "        self.is_debug = is_debug\n",
    "\n",
    "        # define transformation\n",
    "        self.transform = transform\n",
    "        if self.transform is None:\n",
    "            self.transform = transforms.Compose([\n",
    "                                transforms.Resize((img_size, img_size)),\n",
    "                                transforms.ToTensor()])\n",
    "\n",
    "        self.transform_target = transforms.ToTensor()\n",
    "\n",
    "        self.df_data = pd.read_csv(os.path.join(self.path, 'train_labels.csv'))\n",
    "\n",
    "        if is_debug:\n",
    "            self.df_data = self.df_data[:512]\n",
    "\n",
    "        # create training/validation set\n",
    "        train, validation_and_test = train_test_split(self.df_data, random_state=42, shuffle=True, test_size=0.4)\n",
    "        validation, test = train_test_split(validation_and_test, random_state=42, shuffle=True, test_size=0.5)\n",
    "\n",
    "        if self.dataset_type == 'train':\n",
    "            self.df_data = train\n",
    "        elif self.dataset_type == 'validation':\n",
    "            self.df_data = validation\n",
    "        elif self.dataset_type == 'test':\n",
    "            self.df_data = test\n",
    "        else:\n",
    "            raise ValueError\n",
    "\n",
    "    def __len__(self):\n",
    "        return len(self.df_data)\n",
    "\n",
    "    def __getitem__(self, idx):\n",
    "        item = self.df_data.iloc[idx]\n",
    "        img = self.get_rgb_image_from_file(os.path.join(self.path, 'train', ''.join([item['id'],\n",
    "                                                                                     '.tif'])))\n",
    "        img = self.transform(img)\n",
    "        label = np.array(item['label'])\n",
    "        label = torch.from_numpy(label)\n",
    "        return img, label\n",
    "\n",
    "    def load_image_from_file(self, filename):\n",
    "        return Image.open(filename)\n",
    "\n",
    "    def get_rgb_image_from_file(self, filename):\n",
    "        return self.load_image_from_file(filename).convert('RGB')\n",
    "\n",
    "    def get_grayscale_image_from_file(self, filename):\n",
    "        return self.load_image_from_file(filename).convert('L')\n"
   ]
  },
  {
   "cell_type": "code",
   "execution_count": 16,
   "metadata": {},
   "outputs": [],
   "source": [
    "import math\n",
    "import torch\n",
    "from torch import nn\n",
    "from torch.nn import Parameter\n",
    "import torch.nn.functional as F\n",
    "from torch.nn.modules.utils import _pair\n",
    "\n",
    "cuda = torch.cuda.is_available()\n",
    "\n",
    "\n",
    "class FlattenLayer(nn.Module):\n",
    "\n",
    "    def __init__(self, num_features):\n",
    "        super(FlattenLayer, self).__init__()\n",
    "        self.num_features = num_features\n",
    "\n",
    "    def forward(self, x):\n",
    "        return x.view(-1, self.num_features)"
   ]
  },
  {
   "cell_type": "code",
   "execution_count": 17,
   "metadata": {},
   "outputs": [],
   "source": [
    "import torch.nn as nn\n",
    "\n",
    "class F3Conv3FC(nn.Module):\n",
    "    \"\"\"\n",
    "    To train on CIFAR-10:\n",
    "    https://arxiv.org/pdf/1207.0580.pdf\n",
    "    \"\"\"\n",
    "    def __init__(self, outputs, inputs):\n",
    "        super(F3Conv3FC, self).__init__()\n",
    "        self.features = nn.Sequential(\n",
    "            nn.Conv2d(inputs, 32, 5, stride=1, padding=2),\n",
    "            nn.Softplus(),\n",
    "            nn.MaxPool2d(kernel_size=3, stride=2),\n",
    "            nn.Conv2d(32, 64, 5, stride=1, padding=2),\n",
    "            nn.Softplus(),\n",
    "            nn.MaxPool2d(kernel_size=3, stride=2),\n",
    "            nn.Conv2d(64, 128, 5, stride=1, padding=1),\n",
    "            nn.Softplus(),\n",
    "            nn.MaxPool2d(kernel_size=3, stride=2),\n",
    "        )\n",
    "        self.classifier = nn.Sequential(\n",
    "            FlattenLayer(2 * 2 * 128),\n",
    "            nn.Linear(2 * 2 * 128, 1000),\n",
    "            nn.Softplus(),\n",
    "            nn.Linear(1000, 1000),\n",
    "            nn.Softplus(),\n",
    "            nn.Linear(1000, outputs)\n",
    "        )\n",
    "\n",
    "    def forward(self, x):\n",
    "        x = self.features(x)\n",
    "        x = self.classifier(x)\n",
    "        # print('X', x)\n",
    "        return x\n"
   ]
  },
  {
   "cell_type": "code",
   "execution_count": 18,
   "metadata": {
    "pycharm": {
     "is_executing": false
    }
   },
   "outputs": [],
   "source": [
    "test_set = HistoPathologicCancer(path=DATASET_PATH, img_size=img_size, dataset_type='test',\n",
    "                                transform=transform_test,\n",
    "                                is_debug=False)\n",
    "num_classes = 2"
   ]
  },
  {
   "cell_type": "code",
   "execution_count": 19,
   "metadata": {
    "pycharm": {
     "is_executing": false
    }
   },
   "outputs": [],
   "source": [
    "test_loader = torch.utils.data.DataLoader(test_set, batch_size=batch_size, shuffle=False, num_workers=4)"
   ]
  },
  {
   "cell_type": "code",
   "execution_count": 21,
   "metadata": {},
   "outputs": [],
   "source": [
    "model = F3Conv3FC(num_classes, n_channels).cuda()"
   ]
  },
  {
   "cell_type": "code",
   "execution_count": 22,
   "metadata": {},
   "outputs": [],
   "source": [
    "from torch.nn import CrossEntropyLoss\n",
    "criteria = CrossEntropyLoss()"
   ]
  },
  {
   "cell_type": "code",
   "execution_count": 24,
   "metadata": {},
   "outputs": [
    {
     "name": "stdout",
     "output_type": "stream",
     "text": [
      "Loading model from ./../bayes_by_backprop/frequentist-3conv3fc-cancer.dat\n"
     ]
    }
   ],
   "source": [
    "# load model\n",
    "model_filename = f'./../bayes_by_backprop/frequentist-{model_type}-{dataset}.dat'\n",
    "print(f'Loading model from {model_filename}')\n",
    "trained_model = torch.load(model_filename)\n",
    "model.load_state_dict(trained_model['model'])"
   ]
  },
  {
   "cell_type": "code",
   "execution_count": 25,
   "metadata": {},
   "outputs": [],
   "source": [
    "# set to eval mode\n",
    "_ = model.eval()"
   ]
  },
  {
   "cell_type": "markdown",
   "metadata": {},
   "source": [
    "## Test"
   ]
  },
  {
   "cell_type": "code",
   "execution_count": 28,
   "metadata": {},
   "outputs": [
    {
     "name": "stdout",
     "output_type": "stream",
     "text": [
      "Test set: Accuracy: 35255.0/44005 (80.11589592091808%)\n"
     ]
    }
   ],
   "source": [
    "correct = 0\n",
    "y_true = []\n",
    "y_pred = []\n",
    "\n",
    "fc_layer_result = []\n",
    "softmax_layer_result = []\n",
    "for data, target in test_loader:\n",
    "#     data, target = data.cuda(), target.cuda()\n",
    "    \n",
    "    data = data.cuda()\n",
    "    target = target.cuda()\n",
    "    with torch.no_grad():\n",
    "        fc = model(data)\n",
    "#         plot_samples_batch(batch_samples=samples)\n",
    "        fc_layer_result.append(fc.cpu().numpy())\n",
    "        \n",
    "        softmax = F.softmax(fc, dim=1)\n",
    "        softmax_layer_result.append(softmax.cpu().numpy())\n",
    "        \n",
    "        _, pred = torch.max(softmax, 1)\n",
    "#         pred = output.probs.argmax(1).cpu()\n",
    "        \n",
    "        y_pred.extend(list(pred.cpu().numpy()))\n",
    "        y_true += list(target.view_as(pred).cpu().numpy())\n",
    "        correct += float(pred.eq(target.view_as(pred)).cpu().sum())\n",
    "\n",
    "accuracy = 100. * correct / float(len(test_loader.dataset))\n",
    "print(f'Test set: Accuracy: {correct}/{len(test_loader.dataset)} ({accuracy}%)')"
   ]
  },
  {
   "cell_type": "code",
   "execution_count": 30,
   "metadata": {},
   "outputs": [
    {
     "data": {
      "text/html": [
       "<div>\n",
       "<style scoped>\n",
       "    .dataframe tbody tr th:only-of-type {\n",
       "        vertical-align: middle;\n",
       "    }\n",
       "\n",
       "    .dataframe tbody tr th {\n",
       "        vertical-align: top;\n",
       "    }\n",
       "\n",
       "    .dataframe thead th {\n",
       "        text-align: right;\n",
       "    }\n",
       "</style>\n",
       "<table border=\"1\" class=\"dataframe\">\n",
       "  <thead>\n",
       "    <tr style=\"text-align: right;\">\n",
       "      <th></th>\n",
       "      <th>y_true</th>\n",
       "      <th>y_pred</th>\n",
       "      <th>residuals</th>\n",
       "    </tr>\n",
       "  </thead>\n",
       "  <tbody>\n",
       "    <tr>\n",
       "      <th>0</th>\n",
       "      <td>0</td>\n",
       "      <td>1</td>\n",
       "      <td>-1</td>\n",
       "    </tr>\n",
       "    <tr>\n",
       "      <th>1</th>\n",
       "      <td>0</td>\n",
       "      <td>0</td>\n",
       "      <td>0</td>\n",
       "    </tr>\n",
       "    <tr>\n",
       "      <th>2</th>\n",
       "      <td>0</td>\n",
       "      <td>0</td>\n",
       "      <td>0</td>\n",
       "    </tr>\n",
       "    <tr>\n",
       "      <th>3</th>\n",
       "      <td>1</td>\n",
       "      <td>1</td>\n",
       "      <td>0</td>\n",
       "    </tr>\n",
       "    <tr>\n",
       "      <th>4</th>\n",
       "      <td>0</td>\n",
       "      <td>0</td>\n",
       "      <td>0</td>\n",
       "    </tr>\n",
       "  </tbody>\n",
       "</table>\n",
       "</div>"
      ],
      "text/plain": [
       "   y_true  y_pred  residuals\n",
       "0       0       1         -1\n",
       "1       0       0          0\n",
       "2       0       0          0\n",
       "3       1       1          0\n",
       "4       0       0          0"
      ]
     },
     "execution_count": 30,
     "metadata": {},
     "output_type": "execute_result"
    }
   ],
   "source": [
    "y_all = pd.DataFrame({'y_true': y_true,\n",
    "                     'y_pred': y_pred})\n",
    "y_all['residuals'] = y_all['y_true'] - y_all['y_pred']\n",
    "y_all.to_hdf('./test-results/y_all-Freq_3Conv3FC.h5', 'y_all')\n",
    "y_all.head()"
   ]
  },
  {
   "cell_type": "code",
   "execution_count": 35,
   "metadata": {},
   "outputs": [
    {
     "data": {
      "text/plain": [
       "(44005, 2)"
      ]
     },
     "execution_count": 35,
     "metadata": {},
     "output_type": "execute_result"
    }
   ],
   "source": [
    "fc_layer = np.concatenate(fc_layer_result, axis=0)\n",
    "np.save(f'./network-output/fc_layer-Freq_3Conv3FC.npy', fc_layer)\n",
    "fc_layer.shape"
   ]
  },
  {
   "cell_type": "code",
   "execution_count": 37,
   "metadata": {},
   "outputs": [
    {
     "data": {
      "text/plain": [
       "(44005, 2)"
      ]
     },
     "execution_count": 37,
     "metadata": {},
     "output_type": "execute_result"
    }
   ],
   "source": [
    "softmax_layer = np.concatenate(softmax_layer_result, axis=0)\n",
    "np.save(f'./network-output/softmax_layer-Freq_3Conv3FC.npy', softmax_layer)\n",
    "softmax_layer.shape"
   ]
  },
  {
   "cell_type": "code",
   "execution_count": null,
   "metadata": {},
   "outputs": [],
   "source": []
  },
  {
   "cell_type": "code",
   "execution_count": null,
   "metadata": {},
   "outputs": [],
   "source": [
    "np.save('fnumpy.npy', array_lst)"
   ]
  },
  {
   "cell_type": "code",
   "execution_count": 29,
   "metadata": {},
   "outputs": [
    {
     "data": {
      "text/plain": [
       "tensor([[0.0336, 0.9664],\n",
       "        [0.9210, 0.0790],\n",
       "        [0.1928, 0.8072],\n",
       "        [0.1425, 0.8575],\n",
       "        [0.3937, 0.6063],\n",
       "        [0.8107, 0.1893],\n",
       "        [0.9041, 0.0959],\n",
       "        [0.9161, 0.0839],\n",
       "        [0.9108, 0.0892],\n",
       "        [0.9245, 0.0755],\n",
       "        [0.3840, 0.6160],\n",
       "        [0.7399, 0.2601],\n",
       "        [0.9087, 0.0913],\n",
       "        [0.4606, 0.5394],\n",
       "        [0.7641, 0.2359],\n",
       "        [0.6250, 0.3750],\n",
       "        [0.2704, 0.7296],\n",
       "        [0.6759, 0.3241],\n",
       "        [0.1406, 0.8594],\n",
       "        [0.3972, 0.6028],\n",
       "        [0.9414, 0.0586],\n",
       "        [0.0959, 0.9041],\n",
       "        [0.9405, 0.0595],\n",
       "        [0.3769, 0.6231],\n",
       "        [0.7342, 0.2658]], device='cuda:0')"
      ]
     },
     "execution_count": 29,
     "metadata": {},
     "output_type": "execute_result"
    }
   ],
   "source": [
    "softmax"
   ]
  },
  {
   "cell_type": "code",
   "execution_count": 34,
   "metadata": {},
   "outputs": [
    {
     "data": {
      "text/plain": [
       "(100, 44005, 2)"
      ]
     },
     "execution_count": 34,
     "metadata": {},
     "output_type": "execute_result"
    }
   ],
   "source": [
    "fc_layer = np.concatenate(fc_layer_result, axis=1)\n",
    "fc_layer.shape"
   ]
  },
  {
   "cell_type": "code",
   "execution_count": 35,
   "metadata": {},
   "outputs": [
    {
     "data": {
      "text/plain": [
       "(100, 44005, 2)"
      ]
     },
     "execution_count": 35,
     "metadata": {},
     "output_type": "execute_result"
    }
   ],
   "source": [
    "softmax_layer = np.concatenate(softmax_layer_result, axis=1)\n",
    "softmax_layer.shape"
   ]
  },
  {
   "cell_type": "code",
   "execution_count": 32,
   "metadata": {},
   "outputs": [
    {
     "name": "stdout",
     "output_type": "stream",
     "text": [
      "(100, 60, 2)\n",
      "(100, 60, 2)\n",
      "(100, 60, 2)\n",
      "(100, 60, 2)\n",
      "(100, 60, 2)\n",
      "(100, 60, 2)\n",
      "(100, 60, 2)\n",
      "(100, 60, 2)\n",
      "(100, 60, 2)\n",
      "(100, 60, 2)\n",
      "(100, 60, 2)\n",
      "(100, 60, 2)\n",
      "(100, 60, 2)\n",
      "(100, 60, 2)\n",
      "(100, 60, 2)\n",
      "(100, 60, 2)\n",
      "(100, 60, 2)\n",
      "(100, 60, 2)\n",
      "(100, 60, 2)\n",
      "(100, 60, 2)\n",
      "(100, 60, 2)\n",
      "(100, 60, 2)\n",
      "(100, 60, 2)\n",
      "(100, 60, 2)\n",
      "(100, 60, 2)\n",
      "(100, 60, 2)\n",
      "(100, 60, 2)\n",
      "(100, 60, 2)\n",
      "(100, 60, 2)\n",
      "(100, 60, 2)\n",
      "(100, 60, 2)\n",
      "(100, 60, 2)\n",
      "(100, 60, 2)\n",
      "(100, 60, 2)\n",
      "(100, 60, 2)\n",
      "(100, 60, 2)\n",
      "(100, 60, 2)\n",
      "(100, 60, 2)\n",
      "(100, 60, 2)\n",
      "(100, 60, 2)\n",
      "(100, 60, 2)\n",
      "(100, 60, 2)\n",
      "(100, 60, 2)\n",
      "(100, 60, 2)\n",
      "(100, 60, 2)\n",
      "(100, 60, 2)\n",
      "(100, 60, 2)\n",
      "(100, 60, 2)\n",
      "(100, 60, 2)\n",
      "(100, 60, 2)\n",
      "(100, 60, 2)\n",
      "(100, 60, 2)\n",
      "(100, 60, 2)\n",
      "(100, 60, 2)\n",
      "(100, 60, 2)\n",
      "(100, 60, 2)\n",
      "(100, 60, 2)\n",
      "(100, 60, 2)\n",
      "(100, 60, 2)\n",
      "(100, 60, 2)\n",
      "(100, 60, 2)\n",
      "(100, 60, 2)\n",
      "(100, 60, 2)\n",
      "(100, 60, 2)\n",
      "(100, 60, 2)\n",
      "(100, 60, 2)\n",
      "(100, 60, 2)\n",
      "(100, 60, 2)\n",
      "(100, 60, 2)\n",
      "(100, 60, 2)\n",
      "(100, 60, 2)\n",
      "(100, 60, 2)\n",
      "(100, 60, 2)\n",
      "(100, 60, 2)\n",
      "(100, 60, 2)\n",
      "(100, 60, 2)\n",
      "(100, 60, 2)\n",
      "(100, 60, 2)\n",
      "(100, 60, 2)\n",
      "(100, 60, 2)\n",
      "(100, 60, 2)\n",
      "(100, 60, 2)\n",
      "(100, 60, 2)\n",
      "(100, 60, 2)\n",
      "(100, 60, 2)\n",
      "(100, 60, 2)\n",
      "(100, 60, 2)\n",
      "(100, 60, 2)\n",
      "(100, 60, 2)\n",
      "(100, 60, 2)\n",
      "(100, 60, 2)\n",
      "(100, 60, 2)\n",
      "(100, 60, 2)\n",
      "(100, 60, 2)\n",
      "(100, 60, 2)\n",
      "(100, 60, 2)\n",
      "(100, 60, 2)\n",
      "(100, 60, 2)\n",
      "(100, 60, 2)\n",
      "(100, 60, 2)\n",
      "(100, 60, 2)\n",
      "(100, 60, 2)\n",
      "(100, 60, 2)\n",
      "(100, 60, 2)\n",
      "(100, 60, 2)\n",
      "(100, 60, 2)\n",
      "(100, 60, 2)\n",
      "(100, 60, 2)\n",
      "(100, 60, 2)\n",
      "(100, 60, 2)\n",
      "(100, 60, 2)\n",
      "(100, 60, 2)\n",
      "(100, 60, 2)\n",
      "(100, 60, 2)\n",
      "(100, 60, 2)\n",
      "(100, 60, 2)\n",
      "(100, 60, 2)\n",
      "(100, 60, 2)\n",
      "(100, 60, 2)\n",
      "(100, 60, 2)\n",
      "(100, 60, 2)\n",
      "(100, 60, 2)\n",
      "(100, 60, 2)\n",
      "(100, 60, 2)\n",
      "(100, 60, 2)\n",
      "(100, 60, 2)\n",
      "(100, 60, 2)\n",
      "(100, 60, 2)\n",
      "(100, 60, 2)\n",
      "(100, 60, 2)\n",
      "(100, 60, 2)\n",
      "(100, 60, 2)\n",
      "(100, 60, 2)\n",
      "(100, 60, 2)\n",
      "(100, 60, 2)\n",
      "(100, 60, 2)\n",
      "(100, 60, 2)\n",
      "(100, 60, 2)\n",
      "(100, 60, 2)\n",
      "(100, 60, 2)\n",
      "(100, 60, 2)\n",
      "(100, 60, 2)\n",
      "(100, 60, 2)\n",
      "(100, 60, 2)\n",
      "(100, 60, 2)\n",
      "(100, 60, 2)\n",
      "(100, 60, 2)\n",
      "(100, 60, 2)\n",
      "(100, 60, 2)\n",
      "(100, 60, 2)\n",
      "(100, 60, 2)\n",
      "(100, 60, 2)\n",
      "(100, 60, 2)\n",
      "(100, 60, 2)\n",
      "(100, 60, 2)\n",
      "(100, 60, 2)\n",
      "(100, 60, 2)\n",
      "(100, 60, 2)\n",
      "(100, 60, 2)\n",
      "(100, 60, 2)\n",
      "(100, 60, 2)\n",
      "(100, 60, 2)\n",
      "(100, 60, 2)\n",
      "(100, 60, 2)\n",
      "(100, 60, 2)\n",
      "(100, 60, 2)\n",
      "(100, 60, 2)\n",
      "(100, 60, 2)\n",
      "(100, 60, 2)\n",
      "(100, 60, 2)\n",
      "(100, 60, 2)\n",
      "(100, 60, 2)\n",
      "(100, 60, 2)\n",
      "(100, 60, 2)\n",
      "(100, 60, 2)\n",
      "(100, 60, 2)\n",
      "(100, 60, 2)\n",
      "(100, 60, 2)\n",
      "(100, 60, 2)\n",
      "(100, 60, 2)\n",
      "(100, 60, 2)\n",
      "(100, 60, 2)\n",
      "(100, 60, 2)\n",
      "(100, 60, 2)\n",
      "(100, 60, 2)\n",
      "(100, 60, 2)\n",
      "(100, 60, 2)\n",
      "(100, 60, 2)\n",
      "(100, 60, 2)\n",
      "(100, 60, 2)\n",
      "(100, 60, 2)\n",
      "(100, 60, 2)\n",
      "(100, 60, 2)\n",
      "(100, 60, 2)\n",
      "(100, 60, 2)\n",
      "(100, 60, 2)\n",
      "(100, 60, 2)\n",
      "(100, 60, 2)\n",
      "(100, 60, 2)\n",
      "(100, 60, 2)\n",
      "(100, 60, 2)\n",
      "(100, 60, 2)\n",
      "(100, 60, 2)\n",
      "(100, 60, 2)\n",
      "(100, 60, 2)\n",
      "(100, 60, 2)\n",
      "(100, 60, 2)\n",
      "(100, 60, 2)\n",
      "(100, 60, 2)\n",
      "(100, 60, 2)\n",
      "(100, 60, 2)\n",
      "(100, 60, 2)\n",
      "(100, 60, 2)\n",
      "(100, 60, 2)\n",
      "(100, 60, 2)\n",
      "(100, 60, 2)\n",
      "(100, 60, 2)\n",
      "(100, 60, 2)\n",
      "(100, 60, 2)\n",
      "(100, 60, 2)\n",
      "(100, 60, 2)\n",
      "(100, 60, 2)\n",
      "(100, 60, 2)\n",
      "(100, 60, 2)\n",
      "(100, 60, 2)\n",
      "(100, 60, 2)\n",
      "(100, 60, 2)\n",
      "(100, 60, 2)\n",
      "(100, 60, 2)\n",
      "(100, 60, 2)\n",
      "(100, 60, 2)\n",
      "(100, 60, 2)\n",
      "(100, 60, 2)\n",
      "(100, 60, 2)\n",
      "(100, 60, 2)\n",
      "(100, 60, 2)\n",
      "(100, 60, 2)\n",
      "(100, 60, 2)\n",
      "(100, 60, 2)\n",
      "(100, 60, 2)\n",
      "(100, 60, 2)\n",
      "(100, 60, 2)\n",
      "(100, 60, 2)\n",
      "(100, 60, 2)\n",
      "(100, 60, 2)\n",
      "(100, 60, 2)\n",
      "(100, 60, 2)\n",
      "(100, 60, 2)\n",
      "(100, 60, 2)\n",
      "(100, 60, 2)\n",
      "(100, 60, 2)\n",
      "(100, 60, 2)\n",
      "(100, 60, 2)\n",
      "(100, 60, 2)\n",
      "(100, 60, 2)\n",
      "(100, 60, 2)\n",
      "(100, 60, 2)\n",
      "(100, 60, 2)\n",
      "(100, 60, 2)\n",
      "(100, 60, 2)\n",
      "(100, 60, 2)\n",
      "(100, 60, 2)\n",
      "(100, 60, 2)\n",
      "(100, 60, 2)\n",
      "(100, 60, 2)\n",
      "(100, 60, 2)\n",
      "(100, 60, 2)\n",
      "(100, 60, 2)\n",
      "(100, 60, 2)\n",
      "(100, 60, 2)\n",
      "(100, 60, 2)\n",
      "(100, 60, 2)\n",
      "(100, 60, 2)\n",
      "(100, 60, 2)\n",
      "(100, 60, 2)\n",
      "(100, 60, 2)\n",
      "(100, 60, 2)\n",
      "(100, 60, 2)\n",
      "(100, 60, 2)\n",
      "(100, 60, 2)\n",
      "(100, 60, 2)\n",
      "(100, 60, 2)\n",
      "(100, 60, 2)\n",
      "(100, 60, 2)\n",
      "(100, 60, 2)\n",
      "(100, 60, 2)\n",
      "(100, 60, 2)\n",
      "(100, 60, 2)\n",
      "(100, 60, 2)\n",
      "(100, 60, 2)\n",
      "(100, 60, 2)\n",
      "(100, 60, 2)\n",
      "(100, 60, 2)\n",
      "(100, 60, 2)\n",
      "(100, 60, 2)\n",
      "(100, 60, 2)\n",
      "(100, 60, 2)\n",
      "(100, 60, 2)\n",
      "(100, 60, 2)\n",
      "(100, 60, 2)\n",
      "(100, 60, 2)\n",
      "(100, 60, 2)\n",
      "(100, 60, 2)\n",
      "(100, 60, 2)\n",
      "(100, 60, 2)\n",
      "(100, 60, 2)\n",
      "(100, 60, 2)\n",
      "(100, 60, 2)\n",
      "(100, 60, 2)\n",
      "(100, 60, 2)\n",
      "(100, 60, 2)\n",
      "(100, 60, 2)\n",
      "(100, 60, 2)\n",
      "(100, 60, 2)\n",
      "(100, 60, 2)\n",
      "(100, 60, 2)\n",
      "(100, 60, 2)\n",
      "(100, 60, 2)\n",
      "(100, 60, 2)\n",
      "(100, 60, 2)\n",
      "(100, 60, 2)\n",
      "(100, 60, 2)\n",
      "(100, 60, 2)\n",
      "(100, 60, 2)\n",
      "(100, 60, 2)\n",
      "(100, 60, 2)\n",
      "(100, 60, 2)\n",
      "(100, 60, 2)\n",
      "(100, 60, 2)\n",
      "(100, 60, 2)\n",
      "(100, 60, 2)\n",
      "(100, 60, 2)\n",
      "(100, 60, 2)\n",
      "(100, 60, 2)\n",
      "(100, 60, 2)\n",
      "(100, 60, 2)\n",
      "(100, 60, 2)\n",
      "(100, 60, 2)\n",
      "(100, 60, 2)\n",
      "(100, 60, 2)\n",
      "(100, 60, 2)\n",
      "(100, 60, 2)\n",
      "(100, 60, 2)\n",
      "(100, 60, 2)\n",
      "(100, 60, 2)\n",
      "(100, 60, 2)\n",
      "(100, 60, 2)\n",
      "(100, 60, 2)\n",
      "(100, 60, 2)\n",
      "(100, 60, 2)\n",
      "(100, 60, 2)\n",
      "(100, 60, 2)\n",
      "(100, 60, 2)\n",
      "(100, 60, 2)\n",
      "(100, 60, 2)\n",
      "(100, 60, 2)\n",
      "(100, 60, 2)\n",
      "(100, 60, 2)\n",
      "(100, 60, 2)\n",
      "(100, 60, 2)\n",
      "(100, 60, 2)\n",
      "(100, 60, 2)\n",
      "(100, 60, 2)\n",
      "(100, 60, 2)\n",
      "(100, 60, 2)\n",
      "(100, 60, 2)\n",
      "(100, 60, 2)\n",
      "(100, 60, 2)\n",
      "(100, 60, 2)\n",
      "(100, 60, 2)\n",
      "(100, 60, 2)\n",
      "(100, 60, 2)\n",
      "(100, 60, 2)\n",
      "(100, 60, 2)\n",
      "(100, 60, 2)\n",
      "(100, 60, 2)\n",
      "(100, 60, 2)\n",
      "(100, 60, 2)\n",
      "(100, 60, 2)\n",
      "(100, 60, 2)\n",
      "(100, 60, 2)\n",
      "(100, 60, 2)\n",
      "(100, 60, 2)\n",
      "(100, 60, 2)\n",
      "(100, 60, 2)\n",
      "(100, 60, 2)\n",
      "(100, 60, 2)\n",
      "(100, 60, 2)\n",
      "(100, 60, 2)\n",
      "(100, 60, 2)\n",
      "(100, 60, 2)\n",
      "(100, 60, 2)\n",
      "(100, 60, 2)\n",
      "(100, 60, 2)\n",
      "(100, 60, 2)\n",
      "(100, 60, 2)\n",
      "(100, 60, 2)\n",
      "(100, 60, 2)\n",
      "(100, 60, 2)\n",
      "(100, 60, 2)\n",
      "(100, 60, 2)\n",
      "(100, 60, 2)\n",
      "(100, 60, 2)\n",
      "(100, 60, 2)\n",
      "(100, 60, 2)\n",
      "(100, 60, 2)\n",
      "(100, 60, 2)\n",
      "(100, 60, 2)\n",
      "(100, 60, 2)\n",
      "(100, 60, 2)\n",
      "(100, 60, 2)\n",
      "(100, 60, 2)\n",
      "(100, 60, 2)\n",
      "(100, 60, 2)\n",
      "(100, 60, 2)\n",
      "(100, 60, 2)\n",
      "(100, 60, 2)\n",
      "(100, 60, 2)\n",
      "(100, 60, 2)\n",
      "(100, 60, 2)\n",
      "(100, 60, 2)\n",
      "(100, 60, 2)\n",
      "(100, 60, 2)\n",
      "(100, 60, 2)\n",
      "(100, 60, 2)\n",
      "(100, 60, 2)\n",
      "(100, 60, 2)\n",
      "(100, 60, 2)\n",
      "(100, 60, 2)\n",
      "(100, 60, 2)\n",
      "(100, 60, 2)\n",
      "(100, 60, 2)\n",
      "(100, 60, 2)\n",
      "(100, 60, 2)\n",
      "(100, 60, 2)\n",
      "(100, 60, 2)\n",
      "(100, 60, 2)\n",
      "(100, 60, 2)\n",
      "(100, 60, 2)\n",
      "(100, 60, 2)\n",
      "(100, 60, 2)\n",
      "(100, 60, 2)\n",
      "(100, 60, 2)\n",
      "(100, 60, 2)\n",
      "(100, 60, 2)\n",
      "(100, 60, 2)\n",
      "(100, 60, 2)\n",
      "(100, 60, 2)\n",
      "(100, 60, 2)\n",
      "(100, 60, 2)\n",
      "(100, 60, 2)\n",
      "(100, 60, 2)\n",
      "(100, 60, 2)\n",
      "(100, 60, 2)\n",
      "(100, 60, 2)\n",
      "(100, 60, 2)\n",
      "(100, 60, 2)\n",
      "(100, 60, 2)\n",
      "(100, 60, 2)\n",
      "(100, 60, 2)\n",
      "(100, 60, 2)\n",
      "(100, 60, 2)\n",
      "(100, 60, 2)\n",
      "(100, 60, 2)\n",
      "(100, 60, 2)\n",
      "(100, 60, 2)\n",
      "(100, 60, 2)\n",
      "(100, 60, 2)\n",
      "(100, 60, 2)\n",
      "(100, 60, 2)\n",
      "(100, 60, 2)\n",
      "(100, 60, 2)\n",
      "(100, 60, 2)\n",
      "(100, 60, 2)\n",
      "(100, 60, 2)\n",
      "(100, 60, 2)\n",
      "(100, 60, 2)\n",
      "(100, 60, 2)\n",
      "(100, 60, 2)\n",
      "(100, 60, 2)\n",
      "(100, 60, 2)\n",
      "(100, 60, 2)\n",
      "(100, 60, 2)\n",
      "(100, 60, 2)\n",
      "(100, 60, 2)\n",
      "(100, 60, 2)\n",
      "(100, 60, 2)\n",
      "(100, 60, 2)\n",
      "(100, 60, 2)\n",
      "(100, 60, 2)\n",
      "(100, 60, 2)\n",
      "(100, 60, 2)\n",
      "(100, 60, 2)\n",
      "(100, 60, 2)\n",
      "(100, 60, 2)\n",
      "(100, 60, 2)\n",
      "(100, 60, 2)\n",
      "(100, 60, 2)\n",
      "(100, 60, 2)\n",
      "(100, 60, 2)\n",
      "(100, 60, 2)\n",
      "(100, 60, 2)\n",
      "(100, 60, 2)\n",
      "(100, 60, 2)\n",
      "(100, 60, 2)\n",
      "(100, 60, 2)\n",
      "(100, 60, 2)\n",
      "(100, 60, 2)\n",
      "(100, 60, 2)\n",
      "(100, 60, 2)\n",
      "(100, 60, 2)\n",
      "(100, 60, 2)\n",
      "(100, 60, 2)\n",
      "(100, 60, 2)\n",
      "(100, 60, 2)\n",
      "(100, 60, 2)\n",
      "(100, 60, 2)\n",
      "(100, 60, 2)\n",
      "(100, 60, 2)\n",
      "(100, 60, 2)\n",
      "(100, 60, 2)\n",
      "(100, 60, 2)\n",
      "(100, 60, 2)\n",
      "(100, 60, 2)\n",
      "(100, 60, 2)\n",
      "(100, 60, 2)\n",
      "(100, 60, 2)\n",
      "(100, 60, 2)\n",
      "(100, 60, 2)\n",
      "(100, 60, 2)\n",
      "(100, 60, 2)\n",
      "(100, 60, 2)\n",
      "(100, 60, 2)\n",
      "(100, 60, 2)\n",
      "(100, 60, 2)\n",
      "(100, 60, 2)\n",
      "(100, 60, 2)\n",
      "(100, 60, 2)\n",
      "(100, 60, 2)\n",
      "(100, 60, 2)\n",
      "(100, 60, 2)\n",
      "(100, 60, 2)\n",
      "(100, 60, 2)\n",
      "(100, 60, 2)\n",
      "(100, 60, 2)\n",
      "(100, 60, 2)\n",
      "(100, 60, 2)\n",
      "(100, 60, 2)\n",
      "(100, 60, 2)\n",
      "(100, 60, 2)\n",
      "(100, 60, 2)\n",
      "(100, 60, 2)\n",
      "(100, 60, 2)\n",
      "(100, 60, 2)\n",
      "(100, 60, 2)\n",
      "(100, 60, 2)\n",
      "(100, 60, 2)\n",
      "(100, 60, 2)\n",
      "(100, 60, 2)\n",
      "(100, 60, 2)\n",
      "(100, 60, 2)\n",
      "(100, 60, 2)\n",
      "(100, 60, 2)\n",
      "(100, 60, 2)\n",
      "(100, 60, 2)\n",
      "(100, 60, 2)\n",
      "(100, 60, 2)\n",
      "(100, 60, 2)\n",
      "(100, 60, 2)\n",
      "(100, 60, 2)\n",
      "(100, 60, 2)\n",
      "(100, 60, 2)\n",
      "(100, 60, 2)\n",
      "(100, 60, 2)\n",
      "(100, 60, 2)\n",
      "(100, 60, 2)\n",
      "(100, 60, 2)\n",
      "(100, 60, 2)\n",
      "(100, 60, 2)\n",
      "(100, 60, 2)\n",
      "(100, 60, 2)\n",
      "(100, 60, 2)\n",
      "(100, 60, 2)\n",
      "(100, 60, 2)\n",
      "(100, 60, 2)\n",
      "(100, 60, 2)\n",
      "(100, 60, 2)\n",
      "(100, 60, 2)\n",
      "(100, 60, 2)\n",
      "(100, 60, 2)\n",
      "(100, 60, 2)\n",
      "(100, 60, 2)\n",
      "(100, 60, 2)\n",
      "(100, 60, 2)\n",
      "(100, 60, 2)\n",
      "(100, 60, 2)\n",
      "(100, 60, 2)\n",
      "(100, 60, 2)\n",
      "(100, 60, 2)\n",
      "(100, 60, 2)\n",
      "(100, 60, 2)\n",
      "(100, 60, 2)\n",
      "(100, 60, 2)\n",
      "(100, 60, 2)\n",
      "(100, 60, 2)\n",
      "(100, 60, 2)\n",
      "(100, 60, 2)\n",
      "(100, 60, 2)\n",
      "(100, 60, 2)\n",
      "(100, 60, 2)\n",
      "(100, 60, 2)\n",
      "(100, 60, 2)\n",
      "(100, 60, 2)\n",
      "(100, 60, 2)\n",
      "(100, 60, 2)\n",
      "(100, 60, 2)\n",
      "(100, 60, 2)\n",
      "(100, 60, 2)\n",
      "(100, 60, 2)\n",
      "(100, 60, 2)\n",
      "(100, 60, 2)\n",
      "(100, 60, 2)\n",
      "(100, 60, 2)\n",
      "(100, 60, 2)\n",
      "(100, 60, 2)\n",
      "(100, 60, 2)\n",
      "(100, 60, 2)\n",
      "(100, 60, 2)\n",
      "(100, 60, 2)\n",
      "(100, 60, 2)\n",
      "(100, 60, 2)\n",
      "(100, 60, 2)\n",
      "(100, 60, 2)\n",
      "(100, 60, 2)\n",
      "(100, 60, 2)\n",
      "(100, 60, 2)\n",
      "(100, 60, 2)\n",
      "(100, 60, 2)\n",
      "(100, 60, 2)\n",
      "(100, 60, 2)\n",
      "(100, 60, 2)\n",
      "(100, 60, 2)\n",
      "(100, 60, 2)\n",
      "(100, 60, 2)\n",
      "(100, 60, 2)\n",
      "(100, 60, 2)\n",
      "(100, 60, 2)\n",
      "(100, 60, 2)\n",
      "(100, 60, 2)\n",
      "(100, 60, 2)\n",
      "(100, 60, 2)\n",
      "(100, 60, 2)\n",
      "(100, 60, 2)\n",
      "(100, 60, 2)\n",
      "(100, 60, 2)\n",
      "(100, 60, 2)\n",
      "(100, 60, 2)\n",
      "(100, 60, 2)\n",
      "(100, 60, 2)\n",
      "(100, 60, 2)\n",
      "(100, 60, 2)\n",
      "(100, 60, 2)\n",
      "(100, 60, 2)\n",
      "(100, 60, 2)\n",
      "(100, 60, 2)\n",
      "(100, 60, 2)\n",
      "(100, 60, 2)\n",
      "(100, 60, 2)\n",
      "(100, 60, 2)\n",
      "(100, 60, 2)\n",
      "(100, 60, 2)\n",
      "(100, 60, 2)\n",
      "(100, 60, 2)\n",
      "(100, 60, 2)\n",
      "(100, 60, 2)\n",
      "(100, 60, 2)\n",
      "(100, 60, 2)\n",
      "(100, 60, 2)\n",
      "(100, 60, 2)\n",
      "(100, 60, 2)\n",
      "(100, 60, 2)\n",
      "(100, 60, 2)\n",
      "(100, 60, 2)\n",
      "(100, 60, 2)\n",
      "(100, 60, 2)\n",
      "(100, 60, 2)\n",
      "(100, 60, 2)\n",
      "(100, 60, 2)\n",
      "(100, 60, 2)\n",
      "(100, 60, 2)\n",
      "(100, 60, 2)\n",
      "(100, 60, 2)\n",
      "(100, 60, 2)\n",
      "(100, 60, 2)\n",
      "(100, 60, 2)\n",
      "(100, 60, 2)\n",
      "(100, 60, 2)\n",
      "(100, 60, 2)\n",
      "(100, 60, 2)\n",
      "(100, 60, 2)\n",
      "(100, 60, 2)\n",
      "(100, 60, 2)\n",
      "(100, 60, 2)\n",
      "(100, 60, 2)\n",
      "(100, 60, 2)\n",
      "(100, 60, 2)\n",
      "(100, 60, 2)\n",
      "(100, 60, 2)\n",
      "(100, 60, 2)\n",
      "(100, 60, 2)\n",
      "(100, 60, 2)\n",
      "(100, 60, 2)\n",
      "(100, 60, 2)\n",
      "(100, 60, 2)\n",
      "(100, 60, 2)\n",
      "(100, 60, 2)\n",
      "(100, 60, 2)\n",
      "(100, 60, 2)\n",
      "(100, 60, 2)\n",
      "(100, 60, 2)\n",
      "(100, 60, 2)\n",
      "(100, 60, 2)\n",
      "(100, 60, 2)\n",
      "(100, 60, 2)\n",
      "(100, 60, 2)\n",
      "(100, 60, 2)\n",
      "(100, 60, 2)\n",
      "(100, 60, 2)\n",
      "(100, 60, 2)\n",
      "(100, 60, 2)\n",
      "(100, 60, 2)\n",
      "(100, 60, 2)\n",
      "(100, 60, 2)\n",
      "(100, 25, 2)\n"
     ]
    }
   ],
   "source": [
    "for i in range(len(fc_layer_result)):\n",
    "    print(fc_layer_result[i].shape)"
   ]
  },
  {
   "cell_type": "code",
   "execution_count": null,
   "metadata": {},
   "outputs": [],
   "source": []
  },
  {
   "cell_type": "code",
   "execution_count": 68,
   "metadata": {},
   "outputs": [],
   "source": [
    "softmax = softmax.cpu().numpy()"
   ]
  },
  {
   "cell_type": "code",
   "execution_count": 76,
   "metadata": {},
   "outputs": [
    {
     "ename": "ValueError",
     "evalue": "too many values to unpack (expected 2)",
     "output_type": "error",
     "traceback": [
      "\u001b[0;31m---------------------------------------------------------------------------\u001b[0m",
      "\u001b[0;31mValueError\u001b[0m                                Traceback (most recent call last)",
      "\u001b[0;32m<ipython-input-76-35f4b3b74bbc>\u001b[0m in \u001b[0;36m<module>\u001b[0;34m\u001b[0m\n\u001b[0;32m----> 1\u001b[0;31m \u001b[0m_\u001b[0m\u001b[0;34m,\u001b[0m \u001b[0mpred\u001b[0m \u001b[0;34m=\u001b[0m \u001b[0mnp\u001b[0m\u001b[0;34m.\u001b[0m\u001b[0mmax\u001b[0m\u001b[0;34m(\u001b[0m\u001b[0msoftmax\u001b[0m\u001b[0;34m.\u001b[0m\u001b[0mmean\u001b[0m\u001b[0;34m(\u001b[0m\u001b[0;36m0\u001b[0m\u001b[0;34m)\u001b[0m\u001b[0;34m,\u001b[0m\u001b[0;36m1\u001b[0m\u001b[0;34m)\u001b[0m\u001b[0;34m\u001b[0m\u001b[0;34m\u001b[0m\u001b[0m\n\u001b[0m",
      "\u001b[0;31mValueError\u001b[0m: too many values to unpack (expected 2)"
     ]
    }
   ],
   "source": [
    "_, pred = np.max(softmax.mean(0),1)"
   ]
  },
  {
   "cell_type": "code",
   "execution_count": 60,
   "metadata": {},
   "outputs": [],
   "source": [
    "a = outputs.data.view(n_samples, -1, num_classes).cpu().numpy()"
   ]
  },
  {
   "cell_type": "code",
   "execution_count": 61,
   "metadata": {},
   "outputs": [
    {
     "data": {
      "text/plain": [
       "(100, 5, 2)"
      ]
     },
     "execution_count": 61,
     "metadata": {},
     "output_type": "execute_result"
    }
   ],
   "source": [
    "a.shape"
   ]
  },
  {
   "cell_type": "code",
   "execution_count": 28,
   "metadata": {},
   "outputs": [],
   "source": [
    "import seaborn as sns"
   ]
  },
  {
   "cell_type": "code",
   "execution_count": 69,
   "metadata": {},
   "outputs": [
    {
     "data": {
      "image/png": "[encoded data removed]",
      "text/plain": [
       "<Figure size 432x288 with 1 Axes>"
      ]
     },
     "metadata": {
      "needs_background": "light"
     },
     "output_type": "display_data"
    },
    {
     "data": {
      "image/png": "[encoded data removed]",
      "text/plain": [
       "<Figure size 432x288 with 1 Axes>"
      ]
     },
     "metadata": {
      "needs_background": "light"
     },
     "output_type": "display_data"
    },
    {
     "name": "stdout",
     "output_type": "stream",
     "text": [
      "--------------------------------\n"
     ]
    },
    {
     "data": {
      "image/png": "[encoded data removed]",
      "text/plain": [
       "<Figure size 432x288 with 1 Axes>"
      ]
     },
     "metadata": {
      "needs_background": "light"
     },
     "output_type": "display_data"
    },
    {
     "data": {
      "image/png": "[encoded data removed]",
      "text/plain": [
       "<Figure size 432x288 with 1 Axes>"
      ]
     },
     "metadata": {
      "needs_background": "light"
     },
     "output_type": "display_data"
    },
    {
     "name": "stdout",
     "output_type": "stream",
     "text": [
      "--------------------------------\n"
     ]
    },
    {
     "data": {
      "image/png": "[encoded data removed]",
      "text/plain": [
       "<Figure size 432x288 with 1 Axes>"
      ]
     },
     "metadata": {
      "needs_background": "light"
     },
     "output_type": "display_data"
    },
    {
     "data": {
      "image/png": "[encoded data removed]",
      "text/plain": [
       "<Figure size 432x288 with 1 Axes>"
      ]
     },
     "metadata": {
      "needs_background": "light"
     },
     "output_type": "display_data"
    },
    {
     "name": "stdout",
     "output_type": "stream",
     "text": [
      "--------------------------------\n"
     ]
    },
    {
     "data": {
      "image/png": "[encoded data removed]",
      "text/plain": [
       "<Figure size 432x288 with 1 Axes>"
      ]
     },
     "metadata": {
      "needs_background": "light"
     },
     "output_type": "display_data"
    },
    {
     "data": {
      "image/png": "[encoded data removed]",
      "text/plain": [
       "<Figure size 432x288 with 1 Axes>"
      ]
     },
     "metadata": {
      "needs_background": "light"
     },
     "output_type": "display_data"
    },
    {
     "name": "stdout",
     "output_type": "stream",
     "text": [
      "--------------------------------\n"
     ]
    },
    {
     "data": {
      "image/png": "[encoded data removed]",
      "text/plain": [
       "<Figure size 432x288 with 1 Axes>"
      ]
     },
     "metadata": {
      "needs_background": "light"
     },
     "output_type": "display_data"
    },
    {
     "data": {
      "image/png": "[encoded data removed]",
      "text/plain": [
       "<Figure size 432x288 with 1 Axes>"
      ]
     },
     "metadata": {
      "needs_background": "light"
     },
     "output_type": "display_data"
    },
    {
     "name": "stdout",
     "output_type": "stream",
     "text": [
      "--------------------------------\n"
     ]
    }
   ],
   "source": [
    "for i in range(5):\n",
    "    sns.distplot(softmax[:, i, 0])\n",
    "    plt.show()\n",
    "    \n",
    "    sns.distplot(softmax[:, i, 1])\n",
    "    plt.show()\n",
    "    print('--------------------------------')"
   ]
  },
  {
   "cell_type": "code",
   "execution_count": 62,
   "metadata": {},
   "outputs": [
    {
     "data": {
      "image/png": "[encoded data removed]",
      "text/plain": [
       "<Figure size 432x288 with 1 Axes>"
      ]
     },
     "metadata": {
      "needs_background": "light"
     },
     "output_type": "display_data"
    }
   ],
   "source": [
    "ax = sns.distplot(a[:, 4, 1])"
   ]
  },
  {
   "cell_type": "code",
   "execution_count": 63,
   "metadata": {},
   "outputs": [
    {
     "data": {
      "image/png": "[encoded data removed]",
      "text/plain": [
       "<Figure size 432x288 with 1 Axes>"
      ]
     },
     "metadata": {
      "needs_background": "light"
     },
     "output_type": "display_data"
    }
   ],
   "source": [
    "ax = sns.distplot(a[:, 4, 0])"
   ]
  },
  {
   "cell_type": "code",
   "execution_count": 29,
   "metadata": {},
   "outputs": [
    {
     "data": {
      "image/png": "[encoded data removed]",
      "text/plain": [
       "<Figure size 432x288 with 1 Axes>"
      ]
     },
     "metadata": {
      "needs_background": "light"
     },
     "output_type": "display_data"
    }
   ],
   "source": [
    "ax = sns.distplot(outputs.data.cpu().numpy()[:, 0])"
   ]
  },
  {
   "cell_type": "code",
   "execution_count": 30,
   "metadata": {},
   "outputs": [
    {
     "data": {
      "image/png": "[encoded data removed]",
      "text/plain": [
       "<Figure size 432x288 with 1 Axes>"
      ]
     },
     "metadata": {
      "needs_background": "light"
     },
     "output_type": "display_data"
    }
   ],
   "source": [
    "ax = sns.distplot(outputs.data.cpu().numpy()[:, 1])"
   ]
  },
  {
   "cell_type": "code",
   "execution_count": 21,
   "metadata": {},
   "outputs": [
    {
     "data": {
      "text/plain": [
       "torch.Size([100, 3, 32, 32])"
      ]
     },
     "execution_count": 21,
     "metadata": {},
     "output_type": "execute_result"
    }
   ],
   "source": [
    "x.shape"
   ]
  },
  {
   "cell_type": "code",
   "execution_count": 22,
   "metadata": {},
   "outputs": [
    {
     "data": {
      "text/plain": [
       "torch.Size([100])"
      ]
     },
     "execution_count": 22,
     "metadata": {},
     "output_type": "execute_result"
    }
   ],
   "source": [
    "y.shape"
   ]
  },
  {
   "cell_type": "code",
   "execution_count": 48,
   "metadata": {},
   "outputs": [
    {
     "data": {
      "text/plain": [
       "tensor([0, 0, 0, 1, 0, 0, 0, 0, 1, 0, 0, 0, 0, 1, 0, 0, 0, 0, 1, 0, 0, 0, 0, 1,\n",
       "        0, 0, 0, 0, 1, 0, 0, 0, 0, 1, 0, 0, 0, 0, 1, 0, 0, 0, 0, 1, 0, 0, 0, 0,\n",
       "        1, 0, 0, 0, 0, 1, 0, 0, 0, 0, 1, 0, 0, 0, 0, 1, 0, 0, 0, 0, 1, 0, 0, 0,\n",
       "        0, 1, 0, 0, 0, 0, 1, 0, 0, 0, 0, 1, 0, 0, 0, 0, 1, 0, 0, 0, 0, 1, 0, 0,\n",
       "        0, 0, 1, 0], device='cuda:0')"
      ]
     },
     "execution_count": 48,
     "metadata": {},
     "output_type": "execute_result"
    }
   ],
   "source": [
    "y"
   ]
  },
  {
   "cell_type": "markdown",
   "metadata": {},
   "source": [
    "# Study on Prediction Uncertainty"
   ]
  },
  {
   "cell_type": "code",
   "execution_count": null,
   "metadata": {},
   "outputs": [],
   "source": []
  },
  {
   "cell_type": "code",
   "execution_count": 18,
   "metadata": {},
   "outputs": [],
   "source": [
    "from sklearn.metrics import roc_auc_score\n",
    "\n",
    "def get_roc_auc_score(y_all):\n",
    "    return roc_auc_score(y_all['y_true'].values, y_all['y_pred'].values)"
   ]
  },
  {
   "cell_type": "code",
   "execution_count": 19,
   "metadata": {},
   "outputs": [
    {
     "data": {
      "text/plain": [
       "0.965998812547679"
      ]
     },
     "execution_count": 19,
     "metadata": {},
     "output_type": "execute_result"
    }
   ],
   "source": [
    "get_roc_auc_score(y_all)"
   ]
  },
  {
   "cell_type": "code",
   "execution_count": 20,
   "metadata": {},
   "outputs": [],
   "source": [
    "from sklearn.metrics import confusion_matrix\n",
    "\n",
    "def get_confusion_matrix(y_all):\n",
    "    return confusion_matrix(y_all['y_true'].values, y_all['y_pred'].values, labels=[0, 1])"
   ]
  },
  {
   "cell_type": "code",
   "execution_count": 21,
   "metadata": {},
   "outputs": [
    {
     "data": {
      "text/plain": [
       "array([[25632,   586],\n",
       "       [  812, 16975]])"
      ]
     },
     "execution_count": 21,
     "metadata": {},
     "output_type": "execute_result"
    }
   ],
   "source": [
    "get_confusion_matrix(y_all)"
   ]
  },
  {
   "cell_type": "code",
   "execution_count": 22,
   "metadata": {},
   "outputs": [],
   "source": [
    "tn, fp, fn, tp = get_confusion_matrix(y_all).ravel()"
   ]
  },
  {
   "cell_type": "code",
   "execution_count": 23,
   "metadata": {},
   "outputs": [
    {
     "data": {
      "text/plain": [
       "array([25632,   586,   812, 16975])"
      ]
     },
     "execution_count": 23,
     "metadata": {},
     "output_type": "execute_result"
    }
   ],
   "source": [
    "get_confusion_matrix(y_all).ravel()"
   ]
  },
  {
   "cell_type": "code",
   "execution_count": 24,
   "metadata": {},
   "outputs": [],
   "source": [
    "import seaborn as sns\n",
    "def plot_confusion_matrix(y_all):\n",
    "    cm = get_confusion_matrix(y_all)\n",
    "    plt.figure()\n",
    "    plt.title('Confusion Matrix')\n",
    "    ax = sns.heatmap(cm)\n",
    "    ax.set_xlabel('Predicted')\n",
    "    ax.set_ylabel('Real')\n",
    "    plt.show()\n",
    "    return cm"
   ]
  },
  {
   "cell_type": "code",
   "execution_count": 25,
   "metadata": {},
   "outputs": [
    {
     "data": {
      "image/png": "[encoded data removed]",
      "text/plain": [
       "<Figure size 432x288 with 2 Axes>"
      ]
     },
     "metadata": {
      "needs_background": "light"
     },
     "output_type": "display_data"
    }
   ],
   "source": [
    "a = plot_confusion_matrix(y_all)"
   ]
  },
  {
   "cell_type": "code",
   "execution_count": null,
   "metadata": {},
   "outputs": [],
   "source": [
    "# Roc under curve of each approach\n",
    "def plot_\n",
    "fpr_rf_lm, tpr_rf_lm, _ = roc_curve(y_test, y_pred_rf_lm)"
   ]
  },
  {
   "cell_type": "code",
   "execution_count": 13,
   "metadata": {},
   "outputs": [],
   "source": [
    "def plot_samples_batch(batch_samples):\n",
    "    for i in range(batch_samples.shape[0]):\n",
    "        plot_hist(img_samples=batch_samples[i,:,:])"
   ]
  },
  {
   "cell_type": "code",
   "execution_count": 14,
   "metadata": {},
   "outputs": [],
   "source": [
    "def plot_hist(img_samples):\n",
    "    plt.figure(figsize=(10,5))\n",
    "    plt.subplot(121)\n",
    "    plt.hist(samples_img[:, 0], bins=25)\n",
    "\n",
    "    plt.subplot(122)\n",
    "    plt.hist(samples_img[:, 1], bins=25)\n",
    "    plt.show()"
   ]
  },
  {
   "cell_type": "code",
   "execution_count": 15,
   "metadata": {},
   "outputs": [
    {
     "name": "stdout",
     "output_type": "stream",
     "text": [
      "Validation set: Accuracy: 392/44005 (0%)\n"
     ]
    }
   ],
   "source": [
    "correct = 0\n",
    "for data, target in val_loader:\n",
    "    data, target = data.cuda(), target.cuda()\n",
    "    with torch.no_grad():\n",
    "        output, softmax, mixed_fs, samples = likelihood(model(data))\n",
    "#         plot_samples_batch(batch_samples=samples)\n",
    "        pred = output.probs.argmax(1)\n",
    "        correct += pred.eq(target.view_as(pred)).cpu().sum()\n",
    "        break\n",
    "accuracy = 100. * correct / float(len(val_loader.dataset))\n",
    "print(f'Validation set: Accuracy: {correct}/{len(val_loader.dataset)} ({accuracy}%)')\n"
   ]
  },
  {
   "cell_type": "code",
   "execution_count": 16,
   "metadata": {},
   "outputs": [],
   "source": [
    "target = target.cpu()\n",
    "softmax, mixed_fs, samples = softmax.cpu(), mixed_fs.cpu(), samples.cpu()"
   ]
  },
  {
   "cell_type": "code",
   "execution_count": 18,
   "metadata": {},
   "outputs": [
    {
     "data": {
      "text/plain": [
       "torch.Size([400, 100, 2])"
      ]
     },
     "execution_count": 18,
     "metadata": {},
     "output_type": "execute_result"
    }
   ],
   "source": [
    "softmax.shape"
   ]
  },
  {
   "cell_type": "code",
   "execution_count": 19,
   "metadata": {},
   "outputs": [
    {
     "data": {
      "text/plain": [
       "torch.Size([2, 40000])"
      ]
     },
     "execution_count": 19,
     "metadata": {},
     "output_type": "execute_result"
    }
   ],
   "source": [
    "mixed_fs.shape"
   ]
  },
  {
   "cell_type": "code",
   "execution_count": 33,
   "metadata": {},
   "outputs": [
    {
     "data": {
      "text/plain": [
       "torch.Size([400, 100, 2])"
      ]
     },
     "execution_count": 33,
     "metadata": {},
     "output_type": "execute_result"
    }
   ],
   "source": [
    "mixed_fs_transf = mixed_fs.t().view(batch_size, 100, num_classes)\n",
    "mixed_fs_transf.shape"
   ]
  },
  {
   "cell_type": "code",
   "execution_count": 37,
   "metadata": {},
   "outputs": [
    {
     "data": {
      "image/png": "[encoded data removed]",
      "text/plain": [
       "<Figure size 432x288 with 1 Axes>"
      ]
     },
     "metadata": {
      "needs_background": "light"
     },
     "output_type": "display_data"
    },
    {
     "data": {
      "image/png": "[encoded data removed]",
      "text/plain": [
       "<Figure size 432x288 with 1 Axes>"
      ]
     },
     "metadata": {
      "needs_background": "light"
     },
     "output_type": "display_data"
    }
   ],
   "source": [
    "ax = sns.distplot(mixed_fs_transf[0,:,0])\n",
    "ax.set_xlim([-10, 10])\n",
    "plt.show()\n",
    "sns.distplot(mixed_fs_transf[0,:,1])\n",
    "plt.show()"
   ]
  },
  {
   "cell_type": "code",
   "execution_count": 39,
   "metadata": {},
   "outputs": [
    {
     "data": {
      "text/plain": [
       "148.4131591025766"
      ]
     },
     "execution_count": 39,
     "metadata": {},
     "output_type": "execute_result"
    }
   ],
   "source": [
    "np.exp(5)"
   ]
  },
  {
   "cell_type": "code",
   "execution_count": 40,
   "metadata": {},
   "outputs": [
    {
     "data": {
      "text/plain": [
       "0.5"
      ]
     },
     "execution_count": 40,
     "metadata": {},
     "output_type": "execute_result"
    }
   ],
   "source": [
    "np.abs(5.1/10)"
   ]
  },
  {
   "cell_type": "code",
   "execution_count": 20,
   "metadata": {},
   "outputs": [
    {
     "data": {
      "text/plain": [
       "torch.Size([512, 400, 100])"
      ]
     },
     "execution_count": 20,
     "metadata": {},
     "output_type": "execute_result"
    }
   ],
   "source": [
    "samples.shape"
   ]
  },
  {
   "cell_type": "code",
   "execution_count": 26,
   "metadata": {},
   "outputs": [
    {
     "data": {
      "text/plain": [
       "<matplotlib.axes._subplots.AxesSubplot at 0x7f63025e1828>"
      ]
     },
     "execution_count": 26,
     "metadata": {},
     "output_type": "execute_result"
    },
    {
     "data": {
      "image/png": "[encoded data removed]",
      "text/plain": [
       "<Figure size 432x288 with 1 Axes>"
      ]
     },
     "metadata": {
      "needs_background": "light"
     },
     "output_type": "display_data"
    }
   ],
   "source": [
    "sns.distplot(samples[0,0,:])"
   ]
  },
  {
   "cell_type": "code",
   "execution_count": 41,
   "metadata": {},
   "outputs": [
    {
     "data": {
      "text/plain": [
       "tensor(5.4505)"
      ]
     },
     "execution_count": 41,
     "metadata": {},
     "output_type": "execute_result"
    }
   ],
   "source": [
    "mixed_fs_transf[0,0,0]"
   ]
  },
  {
   "cell_type": "code",
   "execution_count": 42,
   "metadata": {},
   "outputs": [
    {
     "data": {
      "text/plain": [
       "tensor(-5.5529)"
      ]
     },
     "execution_count": 42,
     "metadata": {},
     "output_type": "execute_result"
    }
   ],
   "source": [
    "mixed_fs_transf[0,0,1]"
   ]
  },
  {
   "cell_type": "code",
   "execution_count": 43,
   "metadata": {},
   "outputs": [
    {
     "data": {
      "text/plain": [
       "0.49530145227838673"
      ]
     },
     "execution_count": 43,
     "metadata": {},
     "output_type": "execute_result"
    }
   ],
   "source": []
  },
  {
   "cell_type": "code",
   "execution_count": 16,
   "metadata": {},
   "outputs": [
    {
     "data": {
      "text/plain": [
       "torch.Size([800, 2])"
      ]
     },
     "execution_count": 16,
     "metadata": {},
     "output_type": "execute_result"
    }
   ],
   "source": [
    "output.probs.shape"
   ]
  },
  {
   "cell_type": "code",
   "execution_count": 17,
   "metadata": {},
   "outputs": [
    {
     "ename": "NameError",
     "evalue": "name 'samples' is not defined",
     "output_type": "error",
     "traceback": [
      "\u001b[0;31m---------------------------------------------------------------------------\u001b[0m",
      "\u001b[0;31mNameError\u001b[0m                                 Traceback (most recent call last)",
      "\u001b[0;32m<ipython-input-17-67c1c0a5820b>\u001b[0m in \u001b[0;36m<module>\u001b[0;34m\u001b[0m\n\u001b[0;32m----> 1\u001b[0;31m \u001b[0msamples\u001b[0m \u001b[0;34m=\u001b[0m \u001b[0msamples\u001b[0m\u001b[0;34m.\u001b[0m\u001b[0mcpu\u001b[0m\u001b[0;34m(\u001b[0m\u001b[0;34m)\u001b[0m\u001b[0;34m.\u001b[0m\u001b[0mnumpy\u001b[0m\u001b[0;34m(\u001b[0m\u001b[0;34m)\u001b[0m\u001b[0;34m\u001b[0m\u001b[0;34m\u001b[0m\u001b[0m\n\u001b[0m",
      "\u001b[0;31mNameError\u001b[0m: name 'samples' is not defined"
     ]
    }
   ],
   "source": [
    "samples = samples.cpu().numpy()"
   ]
  },
  {
   "cell_type": "code",
   "execution_count": 17,
   "metadata": {},
   "outputs": [],
   "source": [
    "import seaborn as sns"
   ]
  },
  {
   "cell_type": "code",
   "execution_count": 18,
   "metadata": {},
   "outputs": [
    {
     "name": "stderr",
     "output_type": "stream",
     "text": [
      "/home/alberto/.conda/envs/fastai/lib/python3.7/site-packages/scipy/stats/stats.py:1713: FutureWarning: Using a non-tuple sequence for multidimensional indexing is deprecated; use `arr[tuple(seq)]` instead of `arr[seq]`. In the future this will be interpreted as an array index, `arr[np.array(seq)]`, which will result either in an error or a different result.\n",
      "  return np.add.reduce(sorted[indexer] * weights, axis=axis) / sumval\n"
     ]
    },
    {
     "data": {
      "text/plain": [
       "<matplotlib.axes._subplots.AxesSubplot at 0x7f8ff2063d68>"
      ]
     },
     "execution_count": 18,
     "metadata": {},
     "output_type": "execute_result"
    },
    {
     "data": {
      "image/png": "[encoded data removed]",
      "text/plain": [
       "<Figure size 432x288 with 1 Axes>"
      ]
     },
     "metadata": {
      "needs_background": "light"
     },
     "output_type": "display_data"
    }
   ],
   "source": [
    "sns.distplot(mixed_fs[0,:].cpu())"
   ]
  },
  {
   "cell_type": "code",
   "execution_count": 19,
   "metadata": {},
   "outputs": [
    {
     "data": {
      "text/plain": [
       "torch.Size([80000, 2])"
      ]
     },
     "execution_count": 19,
     "metadata": {},
     "output_type": "execute_result"
    }
   ],
   "source": [
    "samples_mixed_fs.t().shape"
   ]
  },
  {
   "cell_type": "code",
   "execution_count": 20,
   "metadata": {},
   "outputs": [
    {
     "data": {
      "text/plain": [
       "torch.Size([800, 100, 2])"
      ]
     },
     "execution_count": 20,
     "metadata": {},
     "output_type": "execute_result"
    }
   ],
   "source": [
    "samples_mixed_fs.t().view(batch_size, 100, num_classes).shape"
   ]
  },
  {
   "cell_type": "code",
   "execution_count": 25,
   "metadata": {},
   "outputs": [
    {
     "data": {
      "text/plain": [
       "torch.Size([800, 100, 2])"
      ]
     },
     "execution_count": 25,
     "metadata": {},
     "output_type": "execute_result"
    }
   ],
   "source": [
    "samples_mixed_fs_transformed = samples_mixed_fs.t().view(batch_size, 100, num_classes).cpu()\n",
    "samples_mixed_fs_transformed.shape"
   ]
  },
  {
   "cell_type": "code",
   "execution_count": 22,
   "metadata": {},
   "outputs": [],
   "source": [
    "samples_softmax = samples_softmax.cpu()"
   ]
  },
  {
   "cell_type": "code",
   "execution_count": 45,
   "metadata": {},
   "outputs": [
    {
     "data": {
      "text/plain": [
       "torch.Size([100])"
      ]
     },
     "execution_count": 45,
     "metadata": {},
     "output_type": "execute_result"
    }
   ],
   "source": [
    "samples_mixed_fs_transformed[i,:,0].shape"
   ]
  },
  {
   "cell_type": "code",
   "execution_count": 45,
   "metadata": {},
   "outputs": [
    {
     "name": "stdout",
     "output_type": "stream",
     "text": [
      "#########################################################\n",
      "#########################################################\n",
      "#########################################################\n",
      "#########################################################\n",
      "#########################################################\n",
      "#########################################################\n",
      "#########################################################\n",
      "#########################################################\n",
      "#########################################################\n",
      "#########################################################\n",
      "#########################################################\n",
      "#########################################################\n",
      "#########################################################\n",
      "#########################################################\n",
      "#########################################################\n",
      "#########################################################\n",
      "#########################################################\n",
      "#########################################################\n",
      "#########################################################\n",
      "#########################################################\n",
      "#########################################################\n",
      "#########################################################\n",
      "#########################################################\n",
      "#########################################################\n",
      "#########################################################\n",
      "#########################################################\n",
      "#########################################################\n",
      "#########################################################\n",
      "#########################################################\n",
      "#########################################################\n",
      "#########################################################\n",
      "#########################################################\n",
      "#########################################################\n",
      "#########################################################\n",
      "#########################################################\n",
      "#########################################################\n",
      "#########################################################\n",
      "#########################################################\n",
      "#########################################################\n",
      "#########################################################\n",
      "#########################################################\n",
      "#########################################################\n",
      "#########################################################\n",
      "#########################################################\n",
      "#########################################################\n",
      "#########################################################\n",
      "#########################################################\n",
      "#########################################################\n",
      "#########################################################\n",
      "#########################################################\n",
      "#########################################################\n",
      "#########################################################\n",
      "#########################################################\n",
      "#########################################################\n",
      "#########################################################\n",
      "#########################################################\n",
      "#########################################################\n",
      "#########################################################\n",
      "#########################################################\n",
      "#########################################################\n",
      "#########################################################\n",
      "#########################################################\n",
      "#########################################################\n",
      "#########################################################\n",
      "#########################################################\n",
      "#########################################################\n",
      "#########################################################\n",
      "#########################################################\n",
      "#########################################################\n",
      "#########################################################\n",
      "#########################################################\n",
      "#########################################################\n",
      "#########################################################\n",
      "#########################################################\n",
      "#########################################################\n",
      "#########################################################\n",
      "#########################################################\n",
      "#########################################################\n",
      "#########################################################\n",
      "Actual Target: 1\n",
      "Class predicted: 0\n",
      "Prediction == 0. Mean = 6.098. Std = 0.334\n",
      "Prediction == 1. Mean = -6.097. Std = 0.328\n"
     ]
    },
    {
     "data": {
      "image/png": "[encoded data removed]",
      "text/plain": [
       "<Figure size 720x360 with 2 Axes>"
      ]
     },
     "metadata": {
      "needs_background": "light"
     },
     "output_type": "display_data"
    },
    {
     "name": "stdout",
     "output_type": "stream",
     "text": [
      "\tSoftmax\n",
      "Prediction == 0. Mean = 1.0. Std = 0.0\n",
      "Prediction == 1. Mean = 0.0. Std = 0.0\n"
     ]
    },
    {
     "data": {
      "image/png": "[encoded data removed]",
      "text/plain": [
       "<Figure size 720x360 with 2 Axes>"
      ]
     },
     "metadata": {
      "needs_background": "light"
     },
     "output_type": "display_data"
    },
    {
     "name": "stdout",
     "output_type": "stream",
     "text": [
      "#########################################################\n",
      "#########################################################\n",
      "#########################################################\n",
      "#########################################################\n",
      "#########################################################\n",
      "#########################################################\n",
      "#########################################################\n",
      "#########################################################\n",
      "#########################################################\n",
      "#########################################################\n",
      "#########################################################\n",
      "#########################################################\n",
      "#########################################################\n",
      "#########################################################\n",
      "#########################################################\n",
      "#########################################################\n",
      "#########################################################\n",
      "#########################################################\n",
      "#########################################################\n",
      "#########################################################\n",
      "#########################################################\n",
      "#########################################################\n",
      "#########################################################\n",
      "#########################################################\n",
      "#########################################################\n",
      "#########################################################\n",
      "#########################################################\n",
      "#########################################################\n",
      "#########################################################\n",
      "#########################################################\n",
      "#########################################################\n",
      "#########################################################\n",
      "#########################################################\n",
      "#########################################################\n",
      "#########################################################\n",
      "#########################################################\n",
      "#########################################################\n",
      "#########################################################\n",
      "#########################################################\n",
      "#########################################################\n",
      "#########################################################\n",
      "#########################################################\n",
      "#########################################################\n",
      "#########################################################\n",
      "#########################################################\n",
      "#########################################################\n",
      "#########################################################\n",
      "#########################################################\n",
      "#########################################################\n",
      "Actual Target: 1\n",
      "Class predicted: 0\n",
      "Prediction == 0. Mean = 5.262. Std = 0.282\n",
      "Prediction == 1. Mean = -5.264. Std = 0.283\n"
     ]
    },
    {
     "data": {
      "image/png": "[encoded data removed]",
      "text/plain": [
       "<Figure size 720x360 with 2 Axes>"
      ]
     },
     "metadata": {
      "needs_background": "light"
     },
     "output_type": "display_data"
    },
    {
     "name": "stdout",
     "output_type": "stream",
     "text": [
      "\tSoftmax\n",
      "Prediction == 0. Mean = 1.0. Std = 0.0\n",
      "Prediction == 1. Mean = 0.0. Std = 0.0\n"
     ]
    },
    {
     "data": {
      "image/png": "[encoded data removed]",
      "text/plain": [
       "<Figure size 720x360 with 2 Axes>"
      ]
     },
     "metadata": {
      "needs_background": "light"
     },
     "output_type": "display_data"
    },
    {
     "name": "stdout",
     "output_type": "stream",
     "text": [
      "#########################################################\n",
      "#########################################################\n",
      "#########################################################\n",
      "#########################################################\n",
      "#########################################################\n",
      "#########################################################\n",
      "#########################################################\n",
      "#########################################################\n",
      "#########################################################\n",
      "#########################################################\n",
      "#########################################################\n",
      "#########################################################\n",
      "#########################################################\n",
      "#########################################################\n",
      "#########################################################\n",
      "#########################################################\n",
      "#########################################################\n",
      "#########################################################\n",
      "#########################################################\n",
      "#########################################################\n",
      "#########################################################\n",
      "#########################################################\n",
      "#########################################################\n",
      "#########################################################\n",
      "#########################################################\n",
      "#########################################################\n",
      "#########################################################\n",
      "#########################################################\n",
      "#########################################################\n",
      "#########################################################\n",
      "#########################################################\n",
      "#########################################################\n",
      "#########################################################\n",
      "#########################################################\n",
      "#########################################################\n",
      "#########################################################\n",
      "#########################################################\n",
      "Actual Target: 0\n",
      "Class predicted: 1\n",
      "Prediction == 0. Mean = -0.764. Std = 0.249\n",
      "Prediction == 1. Mean = 0.768. Std = 0.25\n"
     ]
    },
    {
     "data": {
      "image/png": "[encoded data removed]",
      "text/plain": [
       "<Figure size 720x360 with 2 Axes>"
      ]
     },
     "metadata": {
      "needs_background": "light"
     },
     "output_type": "display_data"
    },
    {
     "name": "stdout",
     "output_type": "stream",
     "text": [
      "\tSoftmax\n",
      "Prediction == 0. Mean = 0.188. Std = 0.074\n",
      "Prediction == 1. Mean = 0.812. Std = 0.074\n"
     ]
    },
    {
     "data": {
      "image/png": "[encoded data removed]",
      "text/plain": [
       "<Figure size 720x360 with 2 Axes>"
      ]
     },
     "metadata": {
      "needs_background": "light"
     },
     "output_type": "display_data"
    },
    {
     "name": "stdout",
     "output_type": "stream",
     "text": [
      "#########################################################\n",
      "#########################################################\n",
      "#########################################################\n",
      "#########################################################\n",
      "#########################################################\n",
      "#########################################################\n",
      "#########################################################\n",
      "#########################################################\n",
      "#########################################################\n",
      "#########################################################\n",
      "#########################################################\n",
      "#########################################################\n",
      "#########################################################\n",
      "#########################################################\n",
      "#########################################################\n",
      "#########################################################\n",
      "#########################################################\n",
      "#########################################################\n",
      "#########################################################\n",
      "#########################################################\n",
      "#########################################################\n",
      "#########################################################\n",
      "#########################################################\n",
      "#########################################################\n",
      "#########################################################\n",
      "#########################################################\n",
      "#########################################################\n",
      "#########################################################\n",
      "#########################################################\n",
      "#########################################################\n",
      "#########################################################\n",
      "#########################################################\n",
      "#########################################################\n",
      "#########################################################\n",
      "#########################################################\n",
      "#########################################################\n",
      "#########################################################\n",
      "#########################################################\n",
      "#########################################################\n",
      "#########################################################\n",
      "#########################################################\n",
      "#########################################################\n",
      "#########################################################\n",
      "#########################################################\n",
      "#########################################################\n",
      "#########################################################\n",
      "#########################################################\n",
      "#########################################################\n",
      "#########################################################\n",
      "#########################################################\n",
      "#########################################################\n",
      "#########################################################\n",
      "#########################################################\n",
      "#########################################################\n",
      "#########################################################\n",
      "#########################################################\n",
      "#########################################################\n",
      "#########################################################\n",
      "#########################################################\n",
      "#########################################################\n",
      "#########################################################\n",
      "#########################################################\n",
      "#########################################################\n",
      "#########################################################\n",
      "#########################################################\n",
      "#########################################################\n",
      "#########################################################\n",
      "#########################################################\n",
      "#########################################################\n",
      "#########################################################\n",
      "#########################################################\n",
      "#########################################################\n",
      "#########################################################\n",
      "#########################################################\n",
      "#########################################################\n",
      "#########################################################\n",
      "#########################################################\n",
      "#########################################################\n",
      "#########################################################\n",
      "#########################################################\n",
      "#########################################################\n",
      "#########################################################\n",
      "#########################################################\n",
      "#########################################################\n",
      "#########################################################\n",
      "#########################################################\n",
      "#########################################################\n",
      "#########################################################\n",
      "#########################################################\n",
      "#########################################################\n",
      "#########################################################\n",
      "#########################################################\n",
      "#########################################################\n",
      "#########################################################\n",
      "#########################################################\n",
      "#########################################################\n",
      "Actual Target: 0\n",
      "Class predicted: 1\n",
      "Prediction == 0. Mean = -2.615. Std = 0.281\n",
      "Prediction == 1. Mean = 2.625. Std = 0.287\n"
     ]
    },
    {
     "data": {
      "image/png": "[encoded data removed]",
      "text/plain": [
       "<Figure size 720x360 with 2 Axes>"
      ]
     },
     "metadata": {
      "needs_background": "light"
     },
     "output_type": "display_data"
    },
    {
     "name": "stdout",
     "output_type": "stream",
     "text": [
      "\tSoftmax\n",
      "Prediction == 0. Mean = 0.006. Std = 0.004\n",
      "Prediction == 1. Mean = 0.994. Std = 0.004\n"
     ]
    },
    {
     "data": {
      "image/png": "[encoded data removed]",
      "text/plain": [
       "<Figure size 720x360 with 2 Axes>"
      ]
     },
     "metadata": {
      "needs_background": "light"
     },
     "output_type": "display_data"
    },
    {
     "name": "stdout",
     "output_type": "stream",
     "text": [
      "#########################################################\n",
      "#########################################################\n",
      "#########################################################\n",
      "#########################################################\n",
      "#########################################################\n",
      "Actual Target: 1\n",
      "Class predicted: 0\n",
      "Prediction == 0. Mean = 0.332. Std = 0.243\n",
      "Prediction == 1. Mean = -0.323. Std = 0.245\n"
     ]
    },
    {
     "data": {
      "image/png": "[encoded data removed]",
      "text/plain": [
       "<Figure size 720x360 with 2 Axes>"
      ]
     },
     "metadata": {
      "needs_background": "light"
     },
     "output_type": "display_data"
    },
    {
     "name": "stdout",
     "output_type": "stream",
     "text": [
      "\tSoftmax\n",
      "Prediction == 0. Mean = 0.651. Std = 0.105\n",
      "Prediction == 1. Mean = 0.349. Std = 0.105\n"
     ]
    },
    {
     "data": {
      "image/png": "[encoded data removed]",
      "text/plain": [
       "<Figure size 720x360 with 2 Axes>"
      ]
     },
     "metadata": {
      "needs_background": "light"
     },
     "output_type": "display_data"
    },
    {
     "name": "stdout",
     "output_type": "stream",
     "text": [
      "#########################################################\n",
      "#########################################################\n",
      "#########################################################\n",
      "#########################################################\n",
      "#########################################################\n",
      "#########################################################\n",
      "#########################################################\n",
      "#########################################################\n",
      "#########################################################\n",
      "#########################################################\n",
      "#########################################################\n",
      "#########################################################\n",
      "#########################################################\n",
      "#########################################################\n",
      "#########################################################\n",
      "#########################################################\n",
      "#########################################################\n",
      "#########################################################\n",
      "#########################################################\n",
      "#########################################################\n",
      "#########################################################\n",
      "#########################################################\n",
      "#########################################################\n",
      "#########################################################\n",
      "#########################################################\n",
      "#########################################################\n",
      "#########################################################\n",
      "#########################################################\n",
      "#########################################################\n",
      "#########################################################\n",
      "#########################################################\n",
      "#########################################################\n",
      "#########################################################\n",
      "#########################################################\n",
      "#########################################################\n",
      "#########################################################\n",
      "#########################################################\n",
      "#########################################################\n",
      "#########################################################\n",
      "#########################################################\n",
      "#########################################################\n",
      "#########################################################\n",
      "#########################################################\n",
      "#########################################################\n",
      "#########################################################\n",
      "#########################################################\n",
      "#########################################################\n",
      "#########################################################\n",
      "#########################################################\n",
      "#########################################################\n",
      "#########################################################\n",
      "#########################################################\n",
      "#########################################################\n",
      "#########################################################\n",
      "#########################################################\n",
      "#########################################################\n",
      "Actual Target: 1\n",
      "Class predicted: 0\n",
      "Prediction == 0. Mean = 2.774. Std = 0.243\n",
      "Prediction == 1. Mean = -2.771. Std = 0.245\n"
     ]
    },
    {
     "data": {
      "image/png": "[encoded data removed]",
      "text/plain": [
       "<Figure size 720x360 with 2 Axes>"
      ]
     },
     "metadata": {
      "needs_background": "light"
     },
     "output_type": "display_data"
    },
    {
     "name": "stdout",
     "output_type": "stream",
     "text": [
      "\tSoftmax\n",
      "Prediction == 0. Mean = 0.996. Std = 0.002\n",
      "Prediction == 1. Mean = 0.004. Std = 0.002\n"
     ]
    },
    {
     "data": {
      "image/png": "[encoded data removed]",
      "text/plain": [
       "<Figure size 720x360 with 2 Axes>"
      ]
     },
     "metadata": {
      "needs_background": "light"
     },
     "output_type": "display_data"
    },
    {
     "name": "stdout",
     "output_type": "stream",
     "text": [
      "#########################################################\n",
      "#########################################################\n",
      "#########################################################\n",
      "#########################################################\n",
      "#########################################################\n",
      "#########################################################\n",
      "#########################################################\n",
      "#########################################################\n",
      "#########################################################\n",
      "#########################################################\n",
      "#########################################################\n",
      "#########################################################\n",
      "#########################################################\n",
      "#########################################################\n",
      "#########################################################\n",
      "#########################################################\n",
      "#########################################################\n",
      "#########################################################\n",
      "#########################################################\n",
      "#########################################################\n",
      "#########################################################\n",
      "#########################################################\n",
      "#########################################################\n",
      "#########################################################\n",
      "#########################################################\n",
      "#########################################################\n",
      "#########################################################\n",
      "#########################################################\n",
      "#########################################################\n",
      "#########################################################\n",
      "#########################################################\n",
      "#########################################################\n",
      "#########################################################\n",
      "#########################################################\n",
      "#########################################################\n",
      "#########################################################\n",
      "#########################################################\n",
      "#########################################################\n",
      "#########################################################\n",
      "#########################################################\n",
      "#########################################################\n",
      "#########################################################\n",
      "#########################################################\n",
      "#########################################################\n",
      "#########################################################\n",
      "#########################################################\n",
      "#########################################################\n",
      "#########################################################\n",
      "#########################################################\n",
      "#########################################################\n",
      "#########################################################\n",
      "#########################################################\n",
      "#########################################################\n",
      "#########################################################\n",
      "#########################################################\n",
      "#########################################################\n",
      "#########################################################\n",
      "#########################################################\n",
      "#########################################################\n",
      "#########################################################\n",
      "#########################################################\n",
      "#########################################################\n",
      "#########################################################\n",
      "#########################################################\n",
      "#########################################################\n",
      "Actual Target: 0\n",
      "Class predicted: 1\n",
      "Prediction == 0. Mean = -0.542. Std = 0.289\n",
      "Prediction == 1. Mean = 0.539. Std = 0.29\n"
     ]
    },
    {
     "data": {
      "image/png": "[encoded data removed]",
      "text/plain": [
       "<Figure size 720x360 with 2 Axes>"
      ]
     },
     "metadata": {
      "needs_background": "light"
     },
     "output_type": "display_data"
    },
    {
     "name": "stdout",
     "output_type": "stream",
     "text": [
      "\tSoftmax\n",
      "Prediction == 0. Mean = 0.267. Std = 0.106\n",
      "Prediction == 1. Mean = 0.733. Std = 0.106\n"
     ]
    },
    {
     "data": {
      "image/png": "[encoded data removed]",
      "text/plain": [
       "<Figure size 720x360 with 2 Axes>"
      ]
     },
     "metadata": {
      "needs_background": "light"
     },
     "output_type": "display_data"
    },
    {
     "name": "stdout",
     "output_type": "stream",
     "text": [
      "#########################################################\n",
      "#########################################################\n",
      "#########################################################\n",
      "#########################################################\n",
      "#########################################################\n",
      "#########################################################\n",
      "#########################################################\n",
      "#########################################################\n",
      "#########################################################\n",
      "Actual Target: 0\n",
      "Class predicted: 1\n",
      "Prediction == 0. Mean = -1.454. Std = 0.258\n",
      "Prediction == 1. Mean = 1.46. Std = 0.256\n"
     ]
    },
    {
     "data": {
      "image/png": "[encoded data removed]",
      "text/plain": [
       "<Figure size 720x360 with 2 Axes>"
      ]
     },
     "metadata": {
      "needs_background": "light"
     },
     "output_type": "display_data"
    },
    {
     "name": "stdout",
     "output_type": "stream",
     "text": [
      "\tSoftmax\n",
      "Prediction == 0. Mean = 0.057. Std = 0.029\n",
      "Prediction == 1. Mean = 0.943. Std = 0.029\n"
     ]
    },
    {
     "data": {
      "image/png": "[encoded data removed]",
      "text/plain": [
       "<Figure size 720x360 with 2 Axes>"
      ]
     },
     "metadata": {
      "needs_background": "light"
     },
     "output_type": "display_data"
    },
    {
     "name": "stdout",
     "output_type": "stream",
     "text": [
      "#########################################################\n",
      "#########################################################\n",
      "#########################################################\n",
      "#########################################################\n"
     ]
    }
   ],
   "source": [
    "ranges = []\n",
    "correct = pred.cpu().eq(target.view_as(pred.cpu()))\n",
    "for i in range(batch_size):\n",
    "# for i in range(10):\n",
    "    print('#########################################################')\n",
    "    target_i = target[i]\n",
    "    pred_i = output.probs[i,:].cpu().argmax()\n",
    "    \n",
    "    ranges.append(float(softmax[i,:,1].max()-softmax[i,:,1].min()))\n",
    "    \n",
    "    if target_i != pred_i:\n",
    "        print(f'Actual Target: {target_i}')\n",
    "        print(f'Class predicted: {pred_i}')\n",
    "        \n",
    "        plt.figure(figsize=(10,5))\n",
    "        plt.subplot(121)\n",
    "        class_ = 0\n",
    "        sns.distplot(mixed_fs_transf[i,:,class_], bins=15, kde=False)\n",
    "        mean = float(torch.mean(mixed_fs_transf[i,:,class_]))\n",
    "        std = float(torch.std(mixed_fs_transf[i,:,class_]))\n",
    "        print(f'Prediction == {class_}. Mean = {round(mean, 3)}. Std = {round(std, 3)}')\n",
    "    #     plt.hist(samples_img[:, 0], bins=25)\n",
    "\n",
    "        plt.subplot(122)\n",
    "        class_ = 1\n",
    "        sns.distplot(mixed_fs_transf[i,:,class_], bins=15, kde=False)\n",
    "        mean = float(torch.mean(mixed_fs_transf[i,:,class_]))\n",
    "        std = float(torch.std(mixed_fs_transf[i,:,class_]))\n",
    "        print(f'Prediction == {class_}. Mean = {round(mean, 3)}. Std = {round(std, 3)}')\n",
    "        plt.show()\n",
    "\n",
    "    #     plt.figure(figsize=(10,5))\n",
    "    #     sns.distplot(samples_mixed_fs_transformed[i,:,:].reshape(-1), bins=50)\n",
    "    #     plt.show()\n",
    "        print('\\tSoftmax')\n",
    "        plt.figure(figsize=(10,5))\n",
    "        plt.subplot(121)\n",
    "        class_ = 0 \n",
    "        ax = sns.distplot(softmax[i,:,class_], bins=15, kde=False)\n",
    "        mean = float(torch.mean(softmax[i,:,class_]))\n",
    "        std = float(torch.std(softmax[i,:,class_]))\n",
    "        print(f'Prediction == {class_}. Mean = {round(mean, 3)}. Std = {round(std, 3)}')\n",
    "    #     ax.set_xlim([-0.05,1.05])\n",
    "    #     plt.hist(samples_img[:, 0], bins=25)\n",
    "\n",
    "        plt.subplot(122)\n",
    "        class_ = 1\n",
    "        ax = sns.distplot(softmax[i,:,class_], bins=15, kde=False)\n",
    "        mean = float(torch.mean(softmax[i,:,class_]))\n",
    "        std = float(torch.std(softmax[i,:,class_]))\n",
    "        print(f'Prediction == {class_}. Mean = {round(mean, 3)}. Std = {round(std, 3)}')\n",
    "    #     ax.set_xlim([-0.05,1.05])\n",
    "        plt.show()\n",
    "    \n",
    "#     plt.figure(figsize=(10,5))\n",
    "#     sns.distplot(samples_softmax[i,:,:].reshape(-1), bins=500, kde=False)\n",
    "#     plt.show()\n",
    "\n",
    "    "
   ]
  },
  {
   "cell_type": "code",
   "execution_count": 53,
   "metadata": {},
   "outputs": [
    {
     "data": {
      "text/plain": [
       "tensor(100.)"
      ]
     },
     "execution_count": 53,
     "metadata": {},
     "output_type": "execute_result"
    }
   ],
   "source": [
    "(samples_softmax[i,:,0] + samples_softmax[i,:,1]).sum()"
   ]
  },
  {
   "cell_type": "code",
   "execution_count": 51,
   "metadata": {},
   "outputs": [
    {
     "data": {
      "text/plain": [
       "tensor([2.8988e-06, 5.1841e-06, 6.0128e-06, 9.1687e-06, 5.9303e-06, 4.7068e-06,\n",
       "        7.7977e-06, 8.3893e-06, 1.3645e-05, 2.5217e-06, 6.3066e-06, 3.2017e-06,\n",
       "        8.7936e-06, 6.3153e-06, 4.6623e-06, 7.9178e-06, 4.9986e-06, 8.7357e-06,\n",
       "        4.5916e-06, 7.3439e-06, 3.9528e-06, 7.6004e-06, 2.8939e-06, 3.4992e-06,\n",
       "        1.2340e-05, 5.2994e-06, 1.2344e-06, 1.2128e-05, 4.8975e-06, 3.8792e-06,\n",
       "        4.8763e-06, 1.0875e-05, 2.3632e-06, 4.5864e-06, 2.7801e-05, 9.6654e-06,\n",
       "        4.1531e-06, 1.2566e-05, 1.0318e-05, 5.1657e-06, 2.8386e-06, 8.0653e-06,\n",
       "        3.7147e-06, 5.8869e-06, 6.1139e-06, 3.3752e-06, 4.8867e-06, 2.7519e-06,\n",
       "        3.8235e-06, 4.5224e-06, 4.9360e-06, 7.7635e-06, 9.8143e-06, 5.0593e-06,\n",
       "        7.6984e-06, 5.7662e-06, 2.4981e-05, 9.6285e-06, 3.5060e-06, 2.2815e-06,\n",
       "        4.1134e-06, 9.6790e-06, 6.5883e-06, 1.4588e-05, 1.2601e-05, 1.0429e-05,\n",
       "        3.2107e-06, 7.3035e-06, 1.5720e-06, 4.8975e-06, 1.2479e-05, 3.4263e-06,\n",
       "        2.2844e-06, 1.2639e-05, 8.4776e-06, 3.7455e-06, 6.0099e-06, 4.3560e-06,\n",
       "        4.0096e-06, 5.2802e-06, 3.1005e-05, 8.3920e-06, 8.5815e-06, 1.2638e-05,\n",
       "        1.7848e-06, 3.3140e-06, 7.5481e-06, 4.2414e-06, 2.6900e-06, 9.7820e-06,\n",
       "        1.1297e-05, 3.8968e-06, 1.4434e-05, 6.3808e-06, 4.2016e-06, 1.7042e-05,\n",
       "        3.5928e-06, 2.2685e-06, 4.3731e-06, 3.1969e-05])"
      ]
     },
     "execution_count": 51,
     "metadata": {},
     "output_type": "execute_result"
    }
   ],
   "source": [
    "samples_softmax[i,:100,1]"
   ]
  },
  {
   "cell_type": "code",
   "execution_count": null,
   "metadata": {},
   "outputs": [],
   "source": []
  },
  {
   "cell_type": "code",
   "execution_count": 37,
   "metadata": {},
   "outputs": [],
   "source": [
    "correct = correct.numpy()"
   ]
  },
  {
   "cell_type": "code",
   "execution_count": 39,
   "metadata": {},
   "outputs": [
    {
     "data": {
      "text/html": [
       "<div>\n",
       "<style scoped>\n",
       "    .dataframe tbody tr th:only-of-type {\n",
       "        vertical-align: middle;\n",
       "    }\n",
       "\n",
       "    .dataframe tbody tr th {\n",
       "        vertical-align: top;\n",
       "    }\n",
       "\n",
       "    .dataframe thead th {\n",
       "        text-align: right;\n",
       "    }\n",
       "</style>\n",
       "<table border=\"1\" class=\"dataframe\">\n",
       "  <thead>\n",
       "    <tr style=\"text-align: right;\">\n",
       "      <th></th>\n",
       "      <th>correct</th>\n",
       "      <th>ranges</th>\n",
       "    </tr>\n",
       "  </thead>\n",
       "  <tbody>\n",
       "    <tr>\n",
       "      <th>0</th>\n",
       "      <td>1</td>\n",
       "      <td>0.000070</td>\n",
       "    </tr>\n",
       "    <tr>\n",
       "      <th>1</th>\n",
       "      <td>1</td>\n",
       "      <td>0.000024</td>\n",
       "    </tr>\n",
       "    <tr>\n",
       "      <th>2</th>\n",
       "      <td>1</td>\n",
       "      <td>0.000003</td>\n",
       "    </tr>\n",
       "    <tr>\n",
       "      <th>3</th>\n",
       "      <td>1</td>\n",
       "      <td>0.000008</td>\n",
       "    </tr>\n",
       "    <tr>\n",
       "      <th>4</th>\n",
       "      <td>1</td>\n",
       "      <td>0.000100</td>\n",
       "    </tr>\n",
       "  </tbody>\n",
       "</table>\n",
       "</div>"
      ],
      "text/plain": [
       "   correct    ranges\n",
       "0        1  0.000070\n",
       "1        1  0.000024\n",
       "2        1  0.000003\n",
       "3        1  0.000008\n",
       "4        1  0.000100"
      ]
     },
     "execution_count": 39,
     "metadata": {},
     "output_type": "execute_result"
    }
   ],
   "source": [
    "import pandas as pd\n",
    "df_ranges = pd.DataFrame({'correct': list(correct),\n",
    "                         'ranges': ranges})\n",
    "df_ranges.head()"
   ]
  },
  {
   "cell_type": "code",
   "execution_count": 57,
   "metadata": {},
   "outputs": [
    {
     "data": {
      "text/plain": [
       "<matplotlib.axes._subplots.AxesSubplot at 0x7f2b9d6d5278>"
      ]
     },
     "execution_count": 57,
     "metadata": {},
     "output_type": "execute_result"
    },
    {
     "data": {
      "image/png": "[encoded data removed]",
      "text/plain": [
       "<Figure size 432x288 with 1 Axes>"
      ]
     },
     "metadata": {
      "needs_background": "light"
     },
     "output_type": "display_data"
    }
   ],
   "source": [
    "sns.boxplot(x='correct', y='ranges', data=df_ranges, whis=1)"
   ]
  },
  {
   "cell_type": "code",
   "execution_count": null,
   "metadata": {},
   "outputs": [],
   "source": []
  },
  {
   "cell_type": "code",
   "execution_count": 21,
   "metadata": {},
   "outputs": [
    {
     "ename": "NameError",
     "evalue": "name 'samples_img' is not defined",
     "output_type": "error",
     "traceback": [
      "\u001b[0;31m---------------------------------------------------------------------------\u001b[0m",
      "\u001b[0;31mNameError\u001b[0m                                 Traceback (most recent call last)",
      "\u001b[0;32m<ipython-input-21-4ec76bba080d>\u001b[0m in \u001b[0;36m<module>\u001b[0;34m\u001b[0m\n\u001b[0;32m----> 1\u001b[0;31m \u001b[0mplot_hist\u001b[0m\u001b[0;34m(\u001b[0m\u001b[0mimg_samples\u001b[0m\u001b[0;34m=\u001b[0m\u001b[0msamples_mixed_fs\u001b[0m\u001b[0;34m.\u001b[0m\u001b[0mtranspose\u001b[0m\u001b[0;34m)\u001b[0m\u001b[0;34m\u001b[0m\u001b[0;34m\u001b[0m\u001b[0m\n\u001b[0m",
      "\u001b[0;32m<ipython-input-14-e7044b36e704>\u001b[0m in \u001b[0;36mplot_hist\u001b[0;34m(img_samples)\u001b[0m\n\u001b[1;32m      2\u001b[0m     \u001b[0mplt\u001b[0m\u001b[0;34m.\u001b[0m\u001b[0mfigure\u001b[0m\u001b[0;34m(\u001b[0m\u001b[0mfigsize\u001b[0m\u001b[0;34m=\u001b[0m\u001b[0;34m(\u001b[0m\u001b[0;36m10\u001b[0m\u001b[0;34m,\u001b[0m\u001b[0;36m5\u001b[0m\u001b[0;34m)\u001b[0m\u001b[0;34m)\u001b[0m\u001b[0;34m\u001b[0m\u001b[0;34m\u001b[0m\u001b[0m\n\u001b[1;32m      3\u001b[0m     \u001b[0mplt\u001b[0m\u001b[0;34m.\u001b[0m\u001b[0msubplot\u001b[0m\u001b[0;34m(\u001b[0m\u001b[0;36m121\u001b[0m\u001b[0;34m)\u001b[0m\u001b[0;34m\u001b[0m\u001b[0;34m\u001b[0m\u001b[0m\n\u001b[0;32m----> 4\u001b[0;31m     \u001b[0mplt\u001b[0m\u001b[0;34m.\u001b[0m\u001b[0mhist\u001b[0m\u001b[0;34m(\u001b[0m\u001b[0msamples_img\u001b[0m\u001b[0;34m[\u001b[0m\u001b[0;34m:\u001b[0m\u001b[0;34m,\u001b[0m \u001b[0;36m0\u001b[0m\u001b[0;34m]\u001b[0m\u001b[0;34m,\u001b[0m \u001b[0mbins\u001b[0m\u001b[0;34m=\u001b[0m\u001b[0;36m25\u001b[0m\u001b[0;34m)\u001b[0m\u001b[0;34m\u001b[0m\u001b[0;34m\u001b[0m\u001b[0m\n\u001b[0m\u001b[1;32m      5\u001b[0m \u001b[0;34m\u001b[0m\u001b[0m\n\u001b[1;32m      6\u001b[0m     \u001b[0mplt\u001b[0m\u001b[0;34m.\u001b[0m\u001b[0msubplot\u001b[0m\u001b[0;34m(\u001b[0m\u001b[0;36m122\u001b[0m\u001b[0;34m)\u001b[0m\u001b[0;34m\u001b[0m\u001b[0;34m\u001b[0m\u001b[0m\n",
      "\u001b[0;31mNameError\u001b[0m: name 'samples_img' is not defined"
     ]
    },
    {
     "data": {
      "image/png": "[encoded data removed]",
      "text/plain": [
       "<Figure size 720x360 with 1 Axes>"
      ]
     },
     "metadata": {
      "needs_background": "light"
     },
     "output_type": "display_data"
    }
   ],
   "source": [
    "plot_hist(img_samples=samples_mixed_fs.transpose)"
   ]
  }
 ],
 "metadata": {
  "kernelspec": {
   "display_name": "Python 3",
   "language": "python",
   "name": "python3"
  },
  "language_info": {
   "codemirror_mode": {
    "name": "ipython",
    "version": 3
   },
   "file_extension": ".py",
   "mimetype": "text/x-python",
   "name": "python",
   "nbconvert_exporter": "python",
   "pygments_lexer": "ipython3",
   "version": "3.6.7"
  }
 },
 "nbformat": 4,
 "nbformat_minor": 2
}
