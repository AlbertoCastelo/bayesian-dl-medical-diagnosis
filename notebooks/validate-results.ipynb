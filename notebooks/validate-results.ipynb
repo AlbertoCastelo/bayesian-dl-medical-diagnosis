{
 "cells": [
  {
   "cell_type": "markdown",
   "metadata": {
    "pycharm": {}
   },
   "source": [
    "# Result Validation"
   ]
  },
  {
   "cell_type": "code",
   "execution_count": 1,
   "metadata": {
    "pycharm": {
     "is_executing": false
    }
   },
   "outputs": [],
   "source": [
    "import numpy as np\n",
    "import pandas as pd\n",
    "import os\n",
    "import cv2\n",
    "import matplotlib.pyplot as plt\n",
    "%matplotlib inline"
   ]
  },
  {
   "cell_type": "code",
   "execution_count": 2,
   "metadata": {},
   "outputs": [],
   "source": [
    "from gpytorch import settings\n",
    "import torch\n",
    "import torchvision.transforms as transforms\n",
    "import gpytorch\n",
    "import pandas as pd"
   ]
  },
  {
   "cell_type": "code",
   "execution_count": 3,
   "metadata": {
    "pycharm": {}
   },
   "outputs": [],
   "source": [
    "DATASET_PATH = '/home/alberto/Desktop/datasets/histopathologic-cancer-detection/'"
   ]
  },
  {
   "cell_type": "code",
   "execution_count": 4,
   "metadata": {},
   "outputs": [],
   "source": [
    "model_type = 'resnet18'\n",
    "\n",
    "# dataset = 'x_ray_binary'\n",
    "dataset = 'cancer'\n",
    "\n",
    "is_debug = False"
   ]
  },
  {
   "cell_type": "code",
   "execution_count": 5,
   "metadata": {},
   "outputs": [],
   "source": [
    "import json\n",
    "def load_configuration(filename, path='./configuration'):\n",
    "    with open(f'{path}/{filename}') as f:\n",
    "        configuration = json.load(f)\n",
    "    return configuration"
   ]
  },
  {
   "cell_type": "code",
   "execution_count": 6,
   "metadata": {},
   "outputs": [],
   "source": [
    "config = load_configuration(filename=f'bayes-{model_type}-{dataset}.json', path='./../deep_gp/configuration')\n",
    "batch_size = 800\n",
    "img_size = config['img_size']\n",
    "n_channels = config['n_channels']\n",
    "num_likelihood_samples = config['num_likelihood_samples']\n",
    "# n of samples used\n",
    "settings.num_likelihood_samples._set_value(num_likelihood_samples)\n",
    "\n",
    "if is_debug:\n",
    "    batch_size = 64"
   ]
  },
  {
   "cell_type": "code",
   "execution_count": 7,
   "metadata": {},
   "outputs": [],
   "source": [
    "# aug_trans = [transforms.RandomCrop(32, padding=4), transforms.RandomHorizontalFlip()]\n",
    "common_trans = [\n",
    "    transforms.Resize((img_size, img_size)),\n",
    "    transforms.ToTensor(),\n",
    "    transforms.Normalize(mean=[0.6], std=[0.2])\n",
    "]\n",
    "\n",
    "transform_train = transforms.Compose(common_trans)\n",
    "transform_val = transforms.Compose(common_trans)\n",
    "\n",
    "use_cuda = torch.cuda.is_available()\n",
    "torch.cuda.set_device(0)"
   ]
  },
  {
   "cell_type": "code",
   "execution_count": 8,
   "metadata": {},
   "outputs": [],
   "source": [
    "import os\n",
    "from glob import glob\n",
    "from sklearn.model_selection import train_test_split\n",
    "import torch\n",
    "from torch.utils.data import Dataset\n",
    "import pandas as pd\n",
    "import numpy as np\n",
    "from torchvision.transforms import transforms\n",
    "from PIL import Image\n",
    "from torchvision.models import ResNet\n",
    "from torchvision.models.resnet import BasicBlock\n",
    "import torch.utils.model_zoo as model_zoo\n",
    "import math\n",
    "import torch\n",
    "from gpytorch import settings\n",
    "from gpytorch.distributions import MultivariateNormal\n",
    "from gpytorch.likelihoods import Likelihood\n",
    "from torch.distributions import Categorical\n",
    "\n",
    "class HistoPathologicCancer(Dataset):\n",
    "    \"\"\"Histo-Pathologic Cancer Dataset with binary labeling: Finding/No-Finding\"\"\"\n",
    "\n",
    "    def __init__(self, path=None, img_size=64, dataset_type='train', transform=None, n_channels=3, is_debug=False):\n",
    "        self.path = path if path is not None \\\n",
    "            else '/home/alberto/Desktop/datasets/histopathologic-cancer-detection/'\n",
    "        self.img_size = img_size\n",
    "        self.dataset_type = dataset_type\n",
    "        if self.dataset_type not in ['train', 'validation', 'test']:\n",
    "            raise RuntimeError\n",
    "\n",
    "        if self.dataset_type in ['train', 'validation']:\n",
    "            self.is_training = True\n",
    "        else:\n",
    "            self.is_training = False\n",
    "\n",
    "        self.n_channels = n_channels\n",
    "        self.is_debug = is_debug\n",
    "\n",
    "        # define transformation\n",
    "        self.transform = transform\n",
    "        if self.transform is None:\n",
    "            self.transform = transforms.Compose([\n",
    "                                transforms.Resize((img_size, img_size)),\n",
    "                                transforms.ToTensor()])\n",
    "\n",
    "        self.transform_target = transforms.ToTensor()\n",
    "\n",
    "        if self.is_training:\n",
    "            self.df_data = pd.read_csv(os.path.join(self.path, 'train_labels.csv'))\n",
    "\n",
    "            if is_debug:\n",
    "                self.df_data = self.df_data[:512]\n",
    "\n",
    "            # create training/validation set\n",
    "            train, validation = train_test_split(self.df_data, random_state=42, shuffle=True, test_size=0.2)\n",
    "            if self.dataset_type == 'train':\n",
    "                self.df_data = train\n",
    "            elif self.dataset_type == 'validation':\n",
    "                self.df_data = validation\n",
    "        else:\n",
    "            self.df_data = os.listdir(os.path.join(self.path, 'test'))\n",
    "            if is_debug:\n",
    "                self.df_data = self.df_data[:512]\n",
    "\n",
    "    def __len__(self):\n",
    "        return len(self.df_data)\n",
    "\n",
    "    def __getitem__(self, idx):\n",
    "        if self.is_training:\n",
    "            return self._get_img_and_label(idx)\n",
    "        else:\n",
    "            item = self.df_data[idx]\n",
    "            img = self.get_rgb_image_from_file(os.path.join(self.path, 'test', item))\n",
    "            img = self.transform(img)\n",
    "            return img, item[:-4]\n",
    "\n",
    "    def _get_img_and_label(self, idx):\n",
    "        item = self.df_data.iloc[idx]\n",
    "        img = self.get_rgb_image_from_file(os.path.join(self.path, 'train', ''.join([item['id'],\n",
    "                                                                                     '.tif'])))\n",
    "        img = self.transform(img)\n",
    "        label = np.array(item['label'])\n",
    "        label = torch.from_numpy(label)\n",
    "        return img, label\n",
    "\n",
    "    def load_image_from_file(self, filename):\n",
    "        return Image.open(filename)\n",
    "\n",
    "    def get_rgb_image_from_file(self, filename):\n",
    "        return self.load_image_from_file(filename).convert('RGB')\n",
    "\n",
    "    def get_grayscale_image_from_file(self, filename):\n",
    "        return self.load_image_from_file(filename).convert('L')\n",
    "\n",
    "\n",
    "model_urls = {\n",
    "    'resnet18': 'https://download.pytorch.org/models/resnet18-5c106cde.pth',\n",
    "    'resnet34': 'https://download.pytorch.org/models/resnet34-333f7ec4.pth',\n",
    "    'resnet50': 'https://download.pytorch.org/models/resnet50-19c8e357.pth',\n",
    "    'resnet101': 'https://download.pytorch.org/models/resnet101-5d3b4d8f.pth',\n",
    "    'resnet152': 'https://download.pytorch.org/models/resnet152-b121ed2d.pth',\n",
    "}\n",
    "\n",
    "\n",
    "class ResNet18FeatureExtractor(ResNet):\n",
    "    '''\n",
    "    Feature Extractor from ResNet 18\n",
    "    '''\n",
    "    def __init__(self, num_classes, pretrained=True):\n",
    "        self.num_classes = num_classes\n",
    "        self.pretrained = pretrained\n",
    "        super(ResNet18FeatureExtractor, self).__init__(block=BasicBlock, layers=[2, 2, 2, 2],)\n",
    "\n",
    "        if pretrained:\n",
    "            self.load_state_dict(model_zoo.load_url(model_urls['resnet18']))\n",
    "\n",
    "    def forward(self, x):\n",
    "        x = self.conv1(x)\n",
    "        x = self.bn1(x)\n",
    "        x = self.relu(x)\n",
    "        x = self.maxpool(x)\n",
    "\n",
    "        x = self.layer1(x)\n",
    "        x = self.layer2(x)\n",
    "        x = self.layer3(x)\n",
    "        x = self.layer4(x)\n",
    "        x = self.avgpool(x)\n",
    "        x = x.view(x.size(0), -1)\n",
    "        return x\n",
    "    \n",
    "\n",
    "class GaussianProcessLayer(gpytorch.models.AdditiveGridInducingVariationalGP):\n",
    "    def __init__(self, num_dim, grid_bounds=(-10., 10.), grid_size=64):\n",
    "        super(GaussianProcessLayer, self).__init__(grid_size=grid_size, grid_bounds=[grid_bounds],\n",
    "                                                   num_dim=num_dim, mixing_params=False, sum_output=False)\n",
    "        self.covar_module = gpytorch.kernels.ScaleKernel(\n",
    "            gpytorch.kernels.RBFKernel(\n",
    "                lengthscale_prior=gpytorch.priors.SmoothedBoxPrior(\n",
    "                    math.exp(-1), math.exp(1), sigma=0.1, transform=torch.exp\n",
    "                )\n",
    "            )\n",
    "        )\n",
    "        self.mean_module = gpytorch.means.ConstantMean()\n",
    "        self.grid_bounds = grid_bounds\n",
    "\n",
    "    def forward(self, x):\n",
    "        mean = self.mean_module(x)\n",
    "        covar = self.covar_module(x)\n",
    "        return gpytorch.distributions.MultivariateNormal(mean, covar)\n",
    "\n",
    "    \n",
    "# Create DKL Model\n",
    "class DKLModel(gpytorch.Module):\n",
    "    def __init__(self, feature_extractor, num_dim, grid_bounds=(-10., 10.)):\n",
    "        super(DKLModel, self).__init__()\n",
    "        self.feature_extractor = feature_extractor\n",
    "        self.gp_layer = GaussianProcessLayer(num_dim=num_dim, grid_bounds=grid_bounds)\n",
    "        self.grid_bounds = grid_bounds\n",
    "        self.num_dim = num_dim\n",
    "\n",
    "    def forward(self, x):\n",
    "        features = self.feature_extractor(x)\n",
    "        features = gpytorch.utils.grid.scale_to_bounds(features, self.grid_bounds[0], self.grid_bounds[1])\n",
    "        res = self.gp_layer(features)\n",
    "        return res\n",
    "\n",
    "\n",
    "class SoftmaxLikelihood(Likelihood):\n",
    "    \"\"\"\n",
    "    Implements the Softmax (multiclass) likelihood used for GP classification.\n",
    "    \"\"\"\n",
    "\n",
    "    def __init__(self, num_features, n_classes, is_detail_eval=False, mixing_weights_prior=None):\n",
    "        super(SoftmaxLikelihood, self).__init__()\n",
    "        self.num_features = num_features\n",
    "        self.n_classes = n_classes\n",
    "        self.register_parameter(\n",
    "            name=\"mixing_weights\",\n",
    "            parameter=torch.nn.Parameter(torch.ones(n_classes, num_features).fill_(1.0 / num_features)),\n",
    "        )\n",
    "        if mixing_weights_prior is not None:\n",
    "            self.register_prior(\"mixing_weights_prior\", mixing_weights_prior, \"mixing_weights\")\n",
    "        self.is_detail_eval = is_detail_eval\n",
    "\n",
    "    def forward(self, latent_func):\n",
    "        if not isinstance(latent_func, MultivariateNormal):\n",
    "            raise RuntimeError(\n",
    "                \"SoftmaxLikelihood expects a multi-variate normally distributed latent function to make predictions\"\n",
    "            )\n",
    "\n",
    "        n_samples = settings.num_likelihood_samples.value()\n",
    "        samples = latent_func.rsample(sample_shape=torch.Size((n_samples,)))\n",
    "        if samples.dim() == 2:\n",
    "            samples = samples.unsqueeze(-1).transpose(-2, -1)\n",
    "        samples = samples.permute(1, 2, 0).contiguous()  # Now n_featuers, n_data, n_samples\n",
    "        if samples.ndimension() != 3:\n",
    "            raise RuntimeError(\"f should have 3 dimensions: features x data x samples\")\n",
    "        num_features, n_data, _ = samples.size()\n",
    "        if num_features != self.num_features:\n",
    "            raise RuntimeError(\"There should be %d features\" % self.num_features)\n",
    "\n",
    "        mixed_fs = self.mixing_weights.matmul(samples.view(num_features, n_samples * n_data))\n",
    "        softmax = torch.nn.functional.softmax(mixed_fs.t(), 1).view(n_data, n_samples, self.n_classes)\n",
    "\n",
    "        if self.is_detail_eval:\n",
    "            return Categorical(probs=softmax.mean(1)), softmax, mixed_fs\n",
    "\n",
    "        return Categorical(probs=softmax.mean(1))\n",
    "\n",
    "    def variational_log_probability(self, latent_func, target):\n",
    "        n_samples = settings.num_likelihood_samples.value()\n",
    "        samples = latent_func.rsample(sample_shape=torch.Size((n_samples,)))\n",
    "        if samples.dim() == 2:\n",
    "            samples = samples.unsqueeze(-1).transpose(-2, -1)\n",
    "        samples = samples.permute(1, 2, 0).contiguous()  # Now n_featuers, n_data, n_samples\n",
    "        if samples.ndimension() != 3:\n",
    "            raise RuntimeError(\"f should have 3 dimensions: features x data x samples\")\n",
    "        num_features, n_data, _ = samples.size()\n",
    "        if num_features != self.num_features:\n",
    "            raise RuntimeError(\"There should be %d features\" % self.num_features)\n",
    "\n",
    "        mixed_fs = self.mixing_weights.matmul(samples.view(num_features, n_samples * n_data))\n",
    "        log_prob = -torch.nn.functional.cross_entropy(\n",
    "            mixed_fs.t(), target.unsqueeze(1).repeat(1, n_samples).view(-1), reduction=\"sum\"\n",
    "        )\n",
    "        return log_prob.div(n_samples)"
   ]
  },
  {
   "cell_type": "code",
   "execution_count": 9,
   "metadata": {
    "pycharm": {
     "is_executing": false
    }
   },
   "outputs": [],
   "source": [
    "data_path = '/home/alberto/Desktop/datasets/histopathologic-cancer-detection/'\n",
    "val_set = HistoPathologicCancer(path=data_path, img_size=img_size, dataset_type='validation',\n",
    "                                transform=transform_val,\n",
    "                                is_debug=False)\n",
    "num_classes = 2"
   ]
  },
  {
   "cell_type": "code",
   "execution_count": 10,
   "metadata": {
    "pycharm": {
     "is_executing": false
    }
   },
   "outputs": [],
   "source": [
    "val_loader = torch.utils.data.DataLoader(val_set, batch_size=batch_size, shuffle=False, num_workers=4)\n",
    "\n",
    "feature_extractor = ResNet18FeatureExtractor(num_classes=2, pretrained=True).cuda()\n",
    "num_features = feature_extractor.fc.in_features\n",
    "\n",
    "# define model\n",
    "model = DKLModel(feature_extractor, num_dim=num_features).cuda()\n",
    "likelihood = SoftmaxLikelihood(num_features=model.num_dim, n_classes=num_classes, is_detail_eval=True).cuda()"
   ]
  },
  {
   "cell_type": "code",
   "execution_count": 11,
   "metadata": {},
   "outputs": [
    {
     "name": "stdout",
     "output_type": "stream",
     "text": [
      "Loading model from ./../deep_gp/bayes-resnet18-cancer-100_samples.dat\n"
     ]
    }
   ],
   "source": [
    "# load model\n",
    "model_filename = f'./../deep_gp/bayes-{model_type}-{dataset}-100_samples.dat'\n",
    "print(f'Loading model from {model_filename}')\n",
    "trained_model = torch.load(model_filename)\n",
    "model.load_state_dict(trained_model['model'])\n",
    "likelihood.load_state_dict(trained_model['likelihood'])"
   ]
  },
  {
   "cell_type": "code",
   "execution_count": 12,
   "metadata": {},
   "outputs": [
    {
     "data": {
      "text/plain": [
       "SoftmaxLikelihood()"
      ]
     },
     "execution_count": 12,
     "metadata": {},
     "output_type": "execute_result"
    }
   ],
   "source": [
    "# set to eval mode\n",
    "model.eval()\n",
    "likelihood.eval()"
   ]
  },
  {
   "cell_type": "markdown",
   "metadata": {},
   "source": [
    "## Validation"
   ]
  },
  {
   "cell_type": "code",
   "execution_count": 13,
   "metadata": {},
   "outputs": [],
   "source": [
    "def plot_samples_batch(batch_samples):\n",
    "    for i in range(batch_samples.shape[0]):\n",
    "        plot_hist(img_samples=batch_samples[i,:,:])"
   ]
  },
  {
   "cell_type": "code",
   "execution_count": 14,
   "metadata": {},
   "outputs": [],
   "source": [
    "def plot_hist(img_samples):\n",
    "    plt.figure(figsize=(10,5))\n",
    "    plt.subplot(121)\n",
    "    plt.hist(samples_img[:, 0], bins=25)\n",
    "\n",
    "    plt.subplot(122)\n",
    "    plt.hist(samples_img[:, 1], bins=25)\n",
    "    plt.show()"
   ]
  },
  {
   "cell_type": "code",
   "execution_count": 15,
   "metadata": {},
   "outputs": [
    {
     "name": "stdout",
     "output_type": "stream",
     "text": [
      "Validation set: Accuracy: 0/44005 (0.0%)\n"
     ]
    }
   ],
   "source": [
    "correct = 0\n",
    "for data, target in val_loader:\n",
    "    data, target = data.cuda(), target.cuda()\n",
    "    with torch.no_grad():\n",
    "        output, samples_softmax, samples_mixed_fs = likelihood(model(data))\n",
    "        break\n",
    "        plot_samples_batch(batch_samples=samples)\n",
    "        pred = output.probs.argmax(1)\n",
    "        correct += pred.eq(target.view_as(pred)).cpu().sum()\n",
    "accuracy = 100. * correct / float(len(val_loader.dataset))\n",
    "print(f'Validation set: Accuracy: {correct}/{len(val_loader.dataset)} ({accuracy}%)')\n"
   ]
  },
  {
   "cell_type": "code",
   "execution_count": 31,
   "metadata": {},
   "outputs": [
    {
     "data": {
      "text/plain": [
       "torch.Size([800, 2])"
      ]
     },
     "execution_count": 31,
     "metadata": {},
     "output_type": "execute_result"
    }
   ],
   "source": [
    "output.probs.shape"
   ]
  },
  {
   "cell_type": "code",
   "execution_count": 16,
   "metadata": {},
   "outputs": [
    {
     "ename": "NameError",
     "evalue": "name 'samples' is not defined",
     "output_type": "error",
     "traceback": [
      "\u001b[0;31m---------------------------------------------------------------------------\u001b[0m",
      "\u001b[0;31mNameError\u001b[0m                                 Traceback (most recent call last)",
      "\u001b[0;32m<ipython-input-16-3f0e79c76fbb>\u001b[0m in \u001b[0;36m<module>\u001b[0;34m\u001b[0m\n\u001b[0;32m----> 1\u001b[0;31m \u001b[0msamples\u001b[0m \u001b[0;34m=\u001b[0m\u001b[0msamples\u001b[0m\u001b[0;34m.\u001b[0m\u001b[0mcpu\u001b[0m\u001b[0;34m(\u001b[0m\u001b[0;34m)\u001b[0m\u001b[0;34m.\u001b[0m\u001b[0mnumpy\u001b[0m\u001b[0;34m(\u001b[0m\u001b[0;34m)\u001b[0m\u001b[0;34m\u001b[0m\u001b[0;34m\u001b[0m\u001b[0m\n\u001b[0m",
      "\u001b[0;31mNameError\u001b[0m: name 'samples' is not defined"
     ]
    }
   ],
   "source": [
    "samples = samples.cpu().numpy()"
   ]
  },
  {
   "cell_type": "code",
   "execution_count": 17,
   "metadata": {},
   "outputs": [],
   "source": [
    "import seaborn as sns"
   ]
  },
  {
   "cell_type": "code",
   "execution_count": 18,
   "metadata": {},
   "outputs": [
    {
     "name": "stderr",
     "output_type": "stream",
     "text": [
      "/home/alberto/.conda/envs/fastai/lib/python3.7/site-packages/scipy/stats/stats.py:1713: FutureWarning: Using a non-tuple sequence for multidimensional indexing is deprecated; use `arr[tuple(seq)]` instead of `arr[seq]`. In the future this will be interpreted as an array index, `arr[np.array(seq)]`, which will result either in an error or a different result.\n",
      "  return np.add.reduce(sorted[indexer] * weights, axis=axis) / sumval\n"
     ]
    },
    {
     "data": {
      "text/plain": [
       "<matplotlib.axes._subplots.AxesSubplot at 0x7f8ff2063d68>"
      ]
     },
     "execution_count": 18,
     "metadata": {},
     "output_type": "execute_result"
    },
    {
     "data": {
      "image/png": "[encoded data removed]",
      "text/plain": [
       "<Figure size 432x288 with 1 Axes>"
      ]
     },
     "metadata": {
      "needs_background": "light"
     },
     "output_type": "display_data"
    }
   ],
   "source": [
    "sns.distplot(samples_mixed_fs[0,:].cpu())"
   ]
  },
  {
   "cell_type": "code",
   "execution_count": 19,
   "metadata": {},
   "outputs": [
    {
     "data": {
      "text/plain": [
       "torch.Size([80000, 2])"
      ]
     },
     "execution_count": 19,
     "metadata": {},
     "output_type": "execute_result"
    }
   ],
   "source": [
    "samples_mixed_fs.t().shape"
   ]
  },
  {
   "cell_type": "code",
   "execution_count": 20,
   "metadata": {},
   "outputs": [
    {
     "data": {
      "text/plain": [
       "torch.Size([800, 100, 2])"
      ]
     },
     "execution_count": 20,
     "metadata": {},
     "output_type": "execute_result"
    }
   ],
   "source": [
    "samples_mixed_fs.t().view(batch_size, 100, num_classes).shape"
   ]
  },
  {
   "cell_type": "code",
   "execution_count": 21,
   "metadata": {},
   "outputs": [
    {
     "data": {
      "text/plain": [
       "torch.Size([800, 100, 2])"
      ]
     },
     "execution_count": 21,
     "metadata": {},
     "output_type": "execute_result"
    }
   ],
   "source": [
    "samples_mixed_fs_transformed = samples_mixed_fs.t().view(batch_size, 100, num_classes).cpu()\n",
    "samples_mixed_fs_transformed.shape"
   ]
  },
  {
   "cell_type": "code",
   "execution_count": 22,
   "metadata": {},
   "outputs": [],
   "source": [
    "samples_softmax = samples_softmax.cpu()"
   ]
  },
  {
   "cell_type": "code",
   "execution_count": 45,
   "metadata": {},
   "outputs": [
    {
     "data": {
      "text/plain": [
       "torch.Size([100])"
      ]
     },
     "execution_count": 45,
     "metadata": {},
     "output_type": "execute_result"
    }
   ],
   "source": [
    "samples_mixed_fs_transformed[i,:,0].shape"
   ]
  },
  {
   "cell_type": "code",
   "execution_count": 54,
   "metadata": {},
   "outputs": [
    {
     "name": "stdout",
     "output_type": "stream",
     "text": [
      "#########################################################\n",
      "Class predicted: 0\n",
      "Prediction == 0. Mean = 5.579. Std = 0.31\n",
      "Prediction == 1. Mean = -5.581. Std = 0.313\n"
     ]
    },
    {
     "data": {
      "image/png": "[encoded data removed]",
      "text/plain": [
       "<Figure size 720x360 with 2 Axes>"
      ]
     },
     "metadata": {
      "needs_background": "light"
     },
     "output_type": "display_data"
    },
    {
     "name": "stdout",
     "output_type": "stream",
     "text": [
      "\tSoftmax\n"
     ]
    },
    {
     "data": {
      "image/png": "[encoded data removed]",
      "text/plain": [
       "<Figure size 720x360 with 2 Axes>"
      ]
     },
     "metadata": {
      "needs_background": "light"
     },
     "output_type": "display_data"
    },
    {
     "name": "stdout",
     "output_type": "stream",
     "text": [
      "#########################################################\n",
      "Class predicted: 1\n",
      "Prediction == 0. Mean = -6.353. Std = 0.472\n",
      "Prediction == 1. Mean = 6.367. Std = 0.471\n"
     ]
    },
    {
     "data": {
      "image/png": "[encoded data removed]",
      "text/plain": [
       "<Figure size 720x360 with 2 Axes>"
      ]
     },
     "metadata": {
      "needs_background": "light"
     },
     "output_type": "display_data"
    },
    {
     "name": "stdout",
     "output_type": "stream",
     "text": [
      "\tSoftmax\n"
     ]
    },
    {
     "data": {
      "image/png": "[encoded data removed]",
      "text/plain": [
       "<Figure size 720x360 with 2 Axes>"
      ]
     },
     "metadata": {
      "needs_background": "light"
     },
     "output_type": "display_data"
    },
    {
     "name": "stdout",
     "output_type": "stream",
     "text": [
      "#########################################################\n",
      "Class predicted: 0\n",
      "Prediction == 0. Mean = 7.324. Std = 0.413\n",
      "Prediction == 1. Mean = -7.327. Std = 0.416\n"
     ]
    },
    {
     "data": {
      "image/png": "[encoded data removed]",
      "text/plain": [
       "<Figure size 720x360 with 2 Axes>"
      ]
     },
     "metadata": {
      "needs_background": "light"
     },
     "output_type": "display_data"
    },
    {
     "name": "stdout",
     "output_type": "stream",
     "text": [
      "\tSoftmax\n"
     ]
    },
    {
     "data": {
      "image/png": "[encoded data removed]",
      "text/plain": [
       "<Figure size 720x360 with 2 Axes>"
      ]
     },
     "metadata": {
      "needs_background": "light"
     },
     "output_type": "display_data"
    },
    {
     "name": "stdout",
     "output_type": "stream",
     "text": [
      "#########################################################\n",
      "Class predicted: 0\n",
      "Prediction == 0. Mean = 6.805. Std = 0.353\n",
      "Prediction == 1. Mean = -6.808. Std = 0.355\n"
     ]
    },
    {
     "data": {
      "image/png": "[encoded data removed]",
      "text/plain": [
       "<Figure size 720x360 with 2 Axes>"
      ]
     },
     "metadata": {
      "needs_background": "light"
     },
     "output_type": "display_data"
    },
    {
     "name": "stdout",
     "output_type": "stream",
     "text": [
      "\tSoftmax\n"
     ]
    },
    {
     "data": {
      "image/png": "[encoded data removed]",
      "text/plain": [
       "<Figure size 720x360 with 2 Axes>"
      ]
     },
     "metadata": {
      "needs_background": "light"
     },
     "output_type": "display_data"
    },
    {
     "name": "stdout",
     "output_type": "stream",
     "text": [
      "#########################################################\n",
      "Class predicted: 1\n",
      "Prediction == 0. Mean = -6.801. Std = 0.848\n",
      "Prediction == 1. Mean = 6.798. Std = 0.845\n"
     ]
    },
    {
     "data": {
      "image/png": "[encoded data removed]",
      "text/plain": [
       "<Figure size 720x360 with 2 Axes>"
      ]
     },
     "metadata": {
      "needs_background": "light"
     },
     "output_type": "display_data"
    },
    {
     "name": "stdout",
     "output_type": "stream",
     "text": [
      "\tSoftmax\n"
     ]
    },
    {
     "data": {
      "image/png": "[encoded data removed]",
      "text/plain": [
       "<Figure size 720x360 with 2 Axes>"
      ]
     },
     "metadata": {
      "needs_background": "light"
     },
     "output_type": "display_data"
    },
    {
     "name": "stdout",
     "output_type": "stream",
     "text": [
      "#########################################################\n",
      "Class predicted: 1\n",
      "Prediction == 0. Mean = -2.602. Std = 0.309\n",
      "Prediction == 1. Mean = 2.619. Std = 0.315\n"
     ]
    },
    {
     "data": {
      "image/png": "[encoded data removed]",
      "text/plain": [
       "<Figure size 720x360 with 2 Axes>"
      ]
     },
     "metadata": {
      "needs_background": "light"
     },
     "output_type": "display_data"
    },
    {
     "name": "stdout",
     "output_type": "stream",
     "text": [
      "\tSoftmax\n"
     ]
    },
    {
     "data": {
      "image/png": "[encoded data removed]",
      "text/plain": [
       "<Figure size 720x360 with 2 Axes>"
      ]
     },
     "metadata": {
      "needs_background": "light"
     },
     "output_type": "display_data"
    },
    {
     "name": "stdout",
     "output_type": "stream",
     "text": [
      "#########################################################\n",
      "Class predicted: 0\n",
      "Prediction == 0. Mean = 7.27. Std = 0.509\n",
      "Prediction == 1. Mean = -7.269. Std = 0.512\n"
     ]
    },
    {
     "data": {
      "image/png": "[encoded data removed]",
      "text/plain": [
       "<Figure size 720x360 with 2 Axes>"
      ]
     },
     "metadata": {
      "needs_background": "light"
     },
     "output_type": "display_data"
    },
    {
     "name": "stdout",
     "output_type": "stream",
     "text": [
      "\tSoftmax\n"
     ]
    },
    {
     "data": {
      "image/png": "[encoded data removed]",
      "text/plain": [
       "<Figure size 720x360 with 2 Axes>"
      ]
     },
     "metadata": {
      "needs_background": "light"
     },
     "output_type": "display_data"
    },
    {
     "name": "stdout",
     "output_type": "stream",
     "text": [
      "#########################################################\n",
      "Class predicted: 0\n",
      "Prediction == 0. Mean = 6.64. Std = 0.303\n",
      "Prediction == 1. Mean = -6.646. Std = 0.313\n"
     ]
    },
    {
     "data": {
      "image/png": "[encoded data removed]",
      "text/plain": [
       "<Figure size 720x360 with 2 Axes>"
      ]
     },
     "metadata": {
      "needs_background": "light"
     },
     "output_type": "display_data"
    },
    {
     "name": "stdout",
     "output_type": "stream",
     "text": [
      "\tSoftmax\n"
     ]
    },
    {
     "data": {
      "image/png": "[encoded data removed]",
      "text/plain": [
       "<Figure size 720x360 with 2 Axes>"
      ]
     },
     "metadata": {
      "needs_background": "light"
     },
     "output_type": "display_data"
    },
    {
     "name": "stdout",
     "output_type": "stream",
     "text": [
      "#########################################################\n",
      "Class predicted: 1\n",
      "Prediction == 0. Mean = -7.121. Std = 0.79\n",
      "Prediction == 1. Mean = 7.117. Std = 0.781\n"
     ]
    },
    {
     "data": {
      "image/png": "[encoded data removed]",
      "text/plain": [
       "<Figure size 720x360 with 2 Axes>"
      ]
     },
     "metadata": {
      "needs_background": "light"
     },
     "output_type": "display_data"
    },
    {
     "name": "stdout",
     "output_type": "stream",
     "text": [
      "\tSoftmax\n"
     ]
    },
    {
     "data": {
      "image/png": "[encoded data removed]",
      "text/plain": [
       "<Figure size 720x360 with 2 Axes>"
      ]
     },
     "metadata": {
      "needs_background": "light"
     },
     "output_type": "display_data"
    },
    {
     "name": "stdout",
     "output_type": "stream",
     "text": [
      "#########################################################\n",
      "Class predicted: 1\n",
      "Prediction == 0. Mean = -7.073. Std = 0.682\n",
      "Prediction == 1. Mean = 7.081. Std = 0.673\n"
     ]
    },
    {
     "data": {
      "image/png": "[encoded data removed]",
      "text/plain": [
       "<Figure size 720x360 with 2 Axes>"
      ]
     },
     "metadata": {
      "needs_background": "light"
     },
     "output_type": "display_data"
    },
    {
     "name": "stdout",
     "output_type": "stream",
     "text": [
      "\tSoftmax\n"
     ]
    },
    {
     "data": {
      "image/png": "[encoded data removed]",
      "text/plain": [
       "<Figure size 720x360 with 2 Axes>"
      ]
     },
     "metadata": {
      "needs_background": "light"
     },
     "output_type": "display_data"
    }
   ],
   "source": [
    "# for i in range(batch_size):\n",
    "for i in range(10):\n",
    "    print('#########################################################')\n",
    "    print(f'Class predicted: {output.probs[i,:].cpu().argmax()}')\n",
    "    \n",
    "    plt.figure(figsize=(10,5))\n",
    "    plt.subplot(121)\n",
    "    class_ = 0\n",
    "    sns.distplot(samples_mixed_fs_transformed[i,:,class_], bins=15, kde=False)\n",
    "    mean = float(torch.mean(samples_mixed_fs_transformed[i,:,class_]))\n",
    "    std = float(torch.std(samples_mixed_fs_transformed[i,:,class_]))\n",
    "    print(f'Prediction == {class_}. Mean = {round(mean, 3)}. Std = {round(std, 3)}')\n",
    "#     plt.hist(samples_img[:, 0], bins=25)\n",
    "\n",
    "    plt.subplot(122)\n",
    "    class_ = 1\n",
    "    sns.distplot(samples_mixed_fs_transformed[i,:,class_], bins=15, kde=False)\n",
    "    mean = float(torch.mean(samples_mixed_fs_transformed[i,:,class_]))\n",
    "    std = float(torch.std(samples_mixed_fs_transformed[i,:,class_]))\n",
    "    print(f'Prediction == {class_}. Mean = {round(mean, 3)}. Std = {round(std, 3)}')\n",
    "    plt.show()\n",
    "    \n",
    "#     plt.figure(figsize=(10,5))\n",
    "#     sns.distplot(samples_mixed_fs_transformed[i,:,:].reshape(-1), bins=50)\n",
    "#     plt.show()\n",
    "    print('\\tSoftmax')\n",
    "    plt.figure(figsize=(10,5))\n",
    "    plt.subplot(121)\n",
    "    ax = sns.distplot(samples_softmax[i,:,0], bins=15, kde=False)\n",
    "#     ax.set_xlim([-0.05,1.05])\n",
    "#     plt.hist(samples_img[:, 0], bins=25)\n",
    "\n",
    "    plt.subplot(122)\n",
    "    ax = sns.distplot(samples_softmax[i,:,1], bins=15, kde=False)\n",
    "    ax.set_xlim([-0.05,1.05])\n",
    "    plt.show()\n",
    "    \n",
    "#     plt.figure(figsize=(10,5))\n",
    "#     sns.distplot(samples_softmax[i,:,:].reshape(-1), bins=500, kde=False)\n",
    "#     plt.show()\n",
    "    \n",
    "    "
   ]
  },
  {
   "cell_type": "code",
   "execution_count": 21,
   "metadata": {},
   "outputs": [
    {
     "ename": "NameError",
     "evalue": "name 'samples_img' is not defined",
     "output_type": "error",
     "traceback": [
      "\u001b[0;31m---------------------------------------------------------------------------\u001b[0m",
      "\u001b[0;31mNameError\u001b[0m                                 Traceback (most recent call last)",
      "\u001b[0;32m<ipython-input-21-4ec76bba080d>\u001b[0m in \u001b[0;36m<module>\u001b[0;34m\u001b[0m\n\u001b[0;32m----> 1\u001b[0;31m \u001b[0mplot_hist\u001b[0m\u001b[0;34m(\u001b[0m\u001b[0mimg_samples\u001b[0m\u001b[0;34m=\u001b[0m\u001b[0msamples_mixed_fs\u001b[0m\u001b[0;34m.\u001b[0m\u001b[0mtranspose\u001b[0m\u001b[0;34m)\u001b[0m\u001b[0;34m\u001b[0m\u001b[0;34m\u001b[0m\u001b[0m\n\u001b[0m",
      "\u001b[0;32m<ipython-input-14-e7044b36e704>\u001b[0m in \u001b[0;36mplot_hist\u001b[0;34m(img_samples)\u001b[0m\n\u001b[1;32m      2\u001b[0m     \u001b[0mplt\u001b[0m\u001b[0;34m.\u001b[0m\u001b[0mfigure\u001b[0m\u001b[0;34m(\u001b[0m\u001b[0mfigsize\u001b[0m\u001b[0;34m=\u001b[0m\u001b[0;34m(\u001b[0m\u001b[0;36m10\u001b[0m\u001b[0;34m,\u001b[0m\u001b[0;36m5\u001b[0m\u001b[0;34m)\u001b[0m\u001b[0;34m)\u001b[0m\u001b[0;34m\u001b[0m\u001b[0;34m\u001b[0m\u001b[0m\n\u001b[1;32m      3\u001b[0m     \u001b[0mplt\u001b[0m\u001b[0;34m.\u001b[0m\u001b[0msubplot\u001b[0m\u001b[0;34m(\u001b[0m\u001b[0;36m121\u001b[0m\u001b[0;34m)\u001b[0m\u001b[0;34m\u001b[0m\u001b[0;34m\u001b[0m\u001b[0m\n\u001b[0;32m----> 4\u001b[0;31m     \u001b[0mplt\u001b[0m\u001b[0;34m.\u001b[0m\u001b[0mhist\u001b[0m\u001b[0;34m(\u001b[0m\u001b[0msamples_img\u001b[0m\u001b[0;34m[\u001b[0m\u001b[0;34m:\u001b[0m\u001b[0;34m,\u001b[0m \u001b[0;36m0\u001b[0m\u001b[0;34m]\u001b[0m\u001b[0;34m,\u001b[0m \u001b[0mbins\u001b[0m\u001b[0;34m=\u001b[0m\u001b[0;36m25\u001b[0m\u001b[0;34m)\u001b[0m\u001b[0;34m\u001b[0m\u001b[0;34m\u001b[0m\u001b[0m\n\u001b[0m\u001b[1;32m      5\u001b[0m \u001b[0;34m\u001b[0m\u001b[0m\n\u001b[1;32m      6\u001b[0m     \u001b[0mplt\u001b[0m\u001b[0;34m.\u001b[0m\u001b[0msubplot\u001b[0m\u001b[0;34m(\u001b[0m\u001b[0;36m122\u001b[0m\u001b[0;34m)\u001b[0m\u001b[0;34m\u001b[0m\u001b[0;34m\u001b[0m\u001b[0m\n",
      "\u001b[0;31mNameError\u001b[0m: name 'samples_img' is not defined"
     ]
    },
    {
     "data": {
      "image/png": "[encoded data removed]",
      "text/plain": [
       "<Figure size 720x360 with 1 Axes>"
      ]
     },
     "metadata": {
      "needs_background": "light"
     },
     "output_type": "display_data"
    }
   ],
   "source": [
    "plot_hist(img_samples=samples_mixed_fs.transpose)"
   ]
  }
 ],
 "metadata": {
  "kernelspec": {
   "display_name": "Python 3",
   "language": "python",
   "name": "python3"
  },
  "language_info": {
   "codemirror_mode": {
    "name": "ipython",
    "version": 3
   },
   "file_extension": ".py",
   "mimetype": "text/x-python",
   "name": "python",
   "nbconvert_exporter": "python",
   "pygments_lexer": "ipython3",
   "version": "3.7.1"
  }
 },
 "nbformat": 4,
 "nbformat_minor": 2
}
